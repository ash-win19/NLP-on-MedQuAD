{
 "cells": [
  {
   "cell_type": "markdown",
   "id": "3ebfc330",
   "metadata": {
    "id": "3ebfc330"
   },
   "source": [
    "# MedQuAD — Milestone 2 Progress Notebook (End-to-End)\n",
    "This notebook parses MedQuAD XML, performs EDA, creates leak-safe splits, and provides runnable baselines for:\n",
    "1) **Abstractive Answer Generation** (T5)  \n",
    "2) **Paraphrase Detection** (Siamese encoder)  \n",
    "3) **Retrieval-Augmented QA (RAG)** with BM25 + FAISS + Generator\n",
    "\n",
    "**Usage**\n",
    "1. Clone the dataset: `git clone https://github.com/abachaa/MedQuAD`\n",
    "2. Set `MEDQUAD_ROOT` below to that path.\n",
    "3. Run cells in order. Heavy training cells are commented for quick tests; uncomment on GPU."
   ]
  },
  {
   "cell_type": "code",
   "execution_count": 2,
   "id": "7ec55e09",
   "metadata": {
    "id": "7ec55e09"
   },
   "outputs": [],
   "source": [
    "# Optional: install dependencies in a fresh environment\n",
    "# !pip install -q lxml pandas scikit-learn sentence-transformers transformers datasets evaluate rank-bm25 faiss-cpu nltk matplotlib seaborn rouge-score\n",
    "\n",
    "import os, re, glob, warnings\n",
    "from urllib.parse import urlparse\n",
    "import xml.etree.ElementTree as ET\n",
    "import pandas as pd\n",
    "warnings.filterwarnings(\"ignore\")\n",
    "\n",
    "# 👉 EDIT THIS PATH to your local MedQuAD clone (e.g., '/content/MedQuAD' in Colab)\n",
    "MEDQUAD_ROOT = \"/Users/ashwinshanmugam/Documents/UIUC/University Courses/Fall 2025/IS 567 Text Mining/Project/NLP-on-MedQuAD/data\"\n",
    "OUT_DIR = \"./artifacts-medquad\"; os.makedirs(OUT_DIR, exist_ok=True)\n",
    "MEDQUAD_PARQUET = os.path.join(OUT_DIR, \"medquad.parquet\")"
   ]
  },
  {
   "cell_type": "markdown",
   "id": "1c90f674",
   "metadata": {
    "id": "1c90f674"
   },
   "source": [
    "## 1) Ingest MedQuAD XML → tidy DataFrame"
   ]
  },
  {
   "cell_type": "code",
   "execution_count": 3,
   "id": "90184d90",
   "metadata": {
    "id": "90184d90",
    "outputId": "b231de61-f872-4d97-bf1b-cea77964cdee"
   },
   "outputs": [
    {
     "name": "stdout",
     "output_type": "stream",
     "text": [
      "WARNING: Forcing re-parsing of MedQuAD XML to apply exclusion filters.\n",
      "The old medquad.parquet file will be overwritten with the filtered data.\n",
      "\n",
      "--- NEW DATASET SUMMARY ---\n",
      "Total Curated QA Pairs Stored in df: 16407\n"
     ]
    },
    {
     "data": {
      "text/html": [
       "<div>\n",
       "<style scoped>\n",
       "    .dataframe tbody tr th:only-of-type {\n",
       "        vertical-align: middle;\n",
       "    }\n",
       "\n",
       "    .dataframe tbody tr th {\n",
       "        vertical-align: top;\n",
       "    }\n",
       "\n",
       "    .dataframe thead th {\n",
       "        text-align: right;\n",
       "    }\n",
       "</style>\n",
       "<table border=\"1\" class=\"dataframe\">\n",
       "  <thead>\n",
       "    <tr style=\"text-align: right;\">\n",
       "      <th></th>\n",
       "      <th>doc_id</th>\n",
       "      <th>source</th>\n",
       "      <th>url</th>\n",
       "      <th>host</th>\n",
       "      <th>focus</th>\n",
       "      <th>focus_cui</th>\n",
       "      <th>focus_sem_type</th>\n",
       "      <th>focus_sem_group</th>\n",
       "      <th>pid</th>\n",
       "      <th>qid</th>\n",
       "      <th>qtype</th>\n",
       "      <th>question</th>\n",
       "      <th>answer</th>\n",
       "      <th>xml_path</th>\n",
       "      <th>q_len</th>\n",
       "      <th>a_len</th>\n",
       "    </tr>\n",
       "  </thead>\n",
       "  <tbody>\n",
       "    <tr>\n",
       "      <th>0</th>\n",
       "      <td>0000559</td>\n",
       "      <td>GHR</td>\n",
       "      <td>https://ghr.nlm.nih.gov/condition/keratoderma-...</td>\n",
       "      <td>ghr.nlm.nih.gov</td>\n",
       "      <td>keratoderma with woolly hair</td>\n",
       "      <td>C0343073</td>\n",
       "      <td>T047</td>\n",
       "      <td>Disorders</td>\n",
       "      <td>1</td>\n",
       "      <td>0000559-1</td>\n",
       "      <td>information</td>\n",
       "      <td>What is (are) keratoderma with woolly hair ?</td>\n",
       "      <td>Keratoderma with woolly hair is a group of rel...</td>\n",
       "      <td>/Users/ashwinshanmugam/Documents/UIUC/Universi...</td>\n",
       "      <td>8</td>\n",
       "      <td>290</td>\n",
       "    </tr>\n",
       "    <tr>\n",
       "      <th>1</th>\n",
       "      <td>0000559</td>\n",
       "      <td>GHR</td>\n",
       "      <td>https://ghr.nlm.nih.gov/condition/keratoderma-...</td>\n",
       "      <td>ghr.nlm.nih.gov</td>\n",
       "      <td>keratoderma with woolly hair</td>\n",
       "      <td>C0343073</td>\n",
       "      <td>T047</td>\n",
       "      <td>Disorders</td>\n",
       "      <td>2</td>\n",
       "      <td>0000559-2</td>\n",
       "      <td>frequency</td>\n",
       "      <td>How many people are affected by keratoderma wi...</td>\n",
       "      <td>Keratoderma with woolly hair is rare; its prev...</td>\n",
       "      <td>/Users/ashwinshanmugam/Documents/UIUC/Universi...</td>\n",
       "      <td>11</td>\n",
       "      <td>80</td>\n",
       "    </tr>\n",
       "    <tr>\n",
       "      <th>2</th>\n",
       "      <td>0000559</td>\n",
       "      <td>GHR</td>\n",
       "      <td>https://ghr.nlm.nih.gov/condition/keratoderma-...</td>\n",
       "      <td>ghr.nlm.nih.gov</td>\n",
       "      <td>keratoderma with woolly hair</td>\n",
       "      <td>C0343073</td>\n",
       "      <td>T047</td>\n",
       "      <td>Disorders</td>\n",
       "      <td>3</td>\n",
       "      <td>0000559-3</td>\n",
       "      <td>genetic changes</td>\n",
       "      <td>What are the genetic changes related to kerato...</td>\n",
       "      <td>Mutations in the JUP, DSP, DSC2, and KANK2 gen...</td>\n",
       "      <td>/Users/ashwinshanmugam/Documents/UIUC/Universi...</td>\n",
       "      <td>12</td>\n",
       "      <td>284</td>\n",
       "    </tr>\n",
       "  </tbody>\n",
       "</table>\n",
       "</div>"
      ],
      "text/plain": [
       "    doc_id source                                                url  \\\n",
       "0  0000559    GHR  https://ghr.nlm.nih.gov/condition/keratoderma-...   \n",
       "1  0000559    GHR  https://ghr.nlm.nih.gov/condition/keratoderma-...   \n",
       "2  0000559    GHR  https://ghr.nlm.nih.gov/condition/keratoderma-...   \n",
       "\n",
       "              host                         focus focus_cui focus_sem_type  \\\n",
       "0  ghr.nlm.nih.gov  keratoderma with woolly hair  C0343073           T047   \n",
       "1  ghr.nlm.nih.gov  keratoderma with woolly hair  C0343073           T047   \n",
       "2  ghr.nlm.nih.gov  keratoderma with woolly hair  C0343073           T047   \n",
       "\n",
       "  focus_sem_group pid        qid            qtype  \\\n",
       "0       Disorders   1  0000559-1      information   \n",
       "1       Disorders   2  0000559-2        frequency   \n",
       "2       Disorders   3  0000559-3  genetic changes   \n",
       "\n",
       "                                            question  \\\n",
       "0       What is (are) keratoderma with woolly hair ?   \n",
       "1  How many people are affected by keratoderma wi...   \n",
       "2  What are the genetic changes related to kerato...   \n",
       "\n",
       "                                              answer  \\\n",
       "0  Keratoderma with woolly hair is a group of rel...   \n",
       "1  Keratoderma with woolly hair is rare; its prev...   \n",
       "2  Mutations in the JUP, DSP, DSC2, and KANK2 gen...   \n",
       "\n",
       "                                            xml_path  q_len  a_len  \n",
       "0  /Users/ashwinshanmugam/Documents/UIUC/Universi...      8    290  \n",
       "1  /Users/ashwinshanmugam/Documents/UIUC/Universi...     11     80  \n",
       "2  /Users/ashwinshanmugam/Documents/UIUC/Universi...     12    284  "
      ]
     },
     "execution_count": 3,
     "metadata": {},
     "output_type": "execute_result"
    }
   ],
   "source": [
    "def parse_medquad_repo(repo_root):\n",
    "    # These are the directory names corresponding to the non-curated subsets.\n",
    "    EXCLUDE_DIRS = [\n",
    "        \"10_MPlus_ADAM_QA\",          # A.D.A.M. Medical Encyclopedia\n",
    "        \"11_MPlusDrugs_QA\",          # MedlinePlus Drug information\n",
    "        \"12_MPlusHerbsSupplements_QA\" # MedlinePlus Herbal medicine and supplement information\n",
    "    ]\n",
    "    rows = []\n",
    "\n",
    "    # Iterate through all XML files recursively\n",
    "    for xml_path in glob.glob(os.path.join(repo_root, \"**\", \"*.xml\"), recursive=True):\n",
    "\n",
    "        # --- NEW CODE: Check if the path contains an excluded directory name ---\n",
    "        if any(f\"/{d}/\" in xml_path for d in EXCLUDE_DIRS):\n",
    "             continue # Skip this XML file and move to the next one\n",
    "        # --- END NEW CODE ---\n",
    "\n",
    "        try:\n",
    "            tree = ET.parse(xml_path)\n",
    "        except Exception as e:\n",
    "            print(\"Parse error:\", xml_path, e); continue\n",
    "\n",
    "        root = tree.getroot()\n",
    "        doc_id = root.attrib.get(\"id\")\n",
    "        source = root.attrib.get(\"source\")\n",
    "        url = root.attrib.get(\"url\"); host = urlparse(url).netloc if url else None\n",
    "        focus = (root.findtext(\"./Focus\") or \"\").strip()\n",
    "        cui = root.findtext(\"./FocusAnnotations/UMLS/CUIs/CUI\")\n",
    "        sem_type = root.findtext(\"./FocusAnnotations/UMLS/SemanticTypes/SemanticType\")\n",
    "        sem_group = root.findtext(\"./FocusAnnotations/UMLS/SemanticGroup\")\n",
    "\n",
    "        for qa in root.findall(\"./QAPairs/QAPair\"):\n",
    "            pid = qa.attrib.get(\"pid\")\n",
    "            q = qa.find(\"./Question\"); a = qa.find(\"./Answer\")\n",
    "            qid = q.attrib.get(\"qid\") if q is not None else None\n",
    "            qtype = q.attrib.get(\"qtype\") if q is not None else None\n",
    "            question = (q.text or \"\").strip() if q is not None else \"\"\n",
    "            answer = (a.text or \"\").strip() if a is not None else \"\"\n",
    "\n",
    "            # Normalization (Whitespace cleanup)\n",
    "            question = re.sub(r\"\\s+\", \" \", question)\n",
    "            answer = re.sub(r\"\\s+\", \" \", answer)\n",
    "\n",
    "            # --- FINAL FILTER: Skip if answer is confirmed blank (for safety) ---\n",
    "            if not answer.strip():\n",
    "                 continue\n",
    "\n",
    "            rows.append(dict(doc_id=doc_id, source=source, url=url, host=host,\n",
    "                             focus=focus, focus_cui=cui, focus_sem_type=sem_type, focus_sem_group=sem_group,\n",
    "                             pid=pid, qid=qid, qtype=qtype, question=question, answer=answer, xml_path=xml_path))\n",
    "\n",
    "    return pd.DataFrame(rows)\n",
    "\n",
    "# First, ensure the directory exists for saving the new file\n",
    "os.makedirs(OUT_DIR, exist_ok=True)\n",
    "\n",
    "\n",
    "print(\"WARNING: Forcing re-parsing of MedQuAD XML to apply exclusion filters.\")\n",
    "print(\"The old medquad.parquet file will be overwritten with the filtered data.\")\n",
    "\n",
    "# 1. CALL THE FUNCTION, APPLYING THE NEW FILTERS\n",
    "df = parse_medquad_repo(MEDQUAD_ROOT)\n",
    "\n",
    "# 2. Add Length Columns for final filtering and EDA (This prevents the old KeyError)\n",
    "df[\"q_len\"] = df[\"question\"].str.split().str.len()\n",
    "df[\"a_len\"] = df[\"answer\"].str.split().str.len()\n",
    "\n",
    "# 3. Apply the final content filter (optional but safe)\n",
    "df = df[df['a_len'] > 0].copy()\n",
    "\n",
    "# 4. OVERWRITE AND SAVE THE NEW, CLEANED DATASET\n",
    "df.to_parquet(MEDQUAD_PARQUET)\n",
    "\n",
    "print(\"\\n--- NEW DATASET SUMMARY ---\")\n",
    "print(f\"Total Curated QA Pairs Stored in df: {len(df)}\")\n",
    "df.head(3)"
   ]
  },
  {
   "cell_type": "markdown",
   "id": "2a1e865a",
   "metadata": {
    "id": "2a1e865a"
   },
   "source": [
    "## 2) Quick EDA"
   ]
  },
  {
   "cell_type": "code",
   "execution_count": 4,
   "id": "6359e117",
   "metadata": {
    "id": "6359e117",
    "outputId": "122840c8-0896-40aa-8cba-fdb832a9551c"
   },
   "outputs": [
    {
     "name": "stdout",
     "output_type": "stream",
     "text": [
      "Top sources:\n",
      " source             host                     \n",
      "GHR                ghr.nlm.nih.gov              5430\n",
      "GARD               rarediseases.info.nih.gov    5389\n",
      "NIDDK              www.niddk.nih.gov            1192\n",
      "NINDS              www.ninds.nih.gov            1088\n",
      "MPlusHealthTopics  www.nlm.nih.gov               981\n",
      "NIHSeniorHealth    nihseniorhealth.gov           769\n",
      "CancerGov          www.cancer.gov                729\n",
      "NHLBI              www.nhlbi.nih.gov             559\n",
      "CDC                www.cdc.gov                   270\n",
      "Name: count, dtype: int64\n",
      "\n",
      "Top question types:\n",
      " qtype\n",
      "information        4535\n",
      "symptoms           2748\n",
      "treatment          2442\n",
      "inheritance        1446\n",
      "frequency          1120\n",
      "genetic changes    1087\n",
      "causes              727\n",
      "exams and tests     653\n",
      "research            395\n",
      "outlook             361\n",
      "susceptibility      324\n",
      "considerations      235\n",
      "prevention          210\n",
      "stages               77\n",
      "complications        46\n",
      "Name: count, dtype: int64\n"
     ]
    },
    {
     "data": {
      "image/png": "[encoded data removed]",
      "text/plain": [
       "<Figure size 640x480 with 1 Axes>"
      ]
     },
     "metadata": {},
     "output_type": "display_data"
    }
   ],
   "source": [
    "import seaborn as sns, matplotlib.pyplot as plt\n",
    "sns.set_theme()\n",
    "\n",
    "print(\"Top sources:\\n\", df[[\"source\",\"host\"]].value_counts().head(10))\n",
    "print(\"\\nTop question types:\\n\", df[\"qtype\"].value_counts().head(15))\n",
    "\n",
    "df[\"q_len\"] = df[\"question\"].str.split().str.len()\n",
    "df[\"a_len\"] = df[\"answer\"].str.split().str.len()\n",
    "\n",
    "fig, ax = plt.subplots()\n",
    "sns.kdeplot(df[\"q_len\"].clip(0,300), label=\"question\", ax=ax)\n",
    "sns.kdeplot(df[\"a_len\"].clip(0,600), label=\"answer\", ax=ax)\n",
    "ax.set_title(\"Token-length distributions\")\n",
    "ax.legend(); plt.show()"
   ]
  },
  {
   "cell_type": "markdown",
   "id": "e67f02ad",
   "metadata": {
    "id": "e67f02ad"
   },
   "source": [
    "## 3) Leak-safe train/dev/test splits (grouped by CUI)"
   ]
  },
  {
   "cell_type": "code",
   "execution_count": 5,
   "id": "88936232",
   "metadata": {
    "id": "88936232",
    "outputId": "69c5ec68-20ca-4331-dd14-5ec5a7983fa3"
   },
   "outputs": [
    {
     "data": {
      "text/plain": [
       "(12850, 1739, 1818)"
      ]
     },
     "execution_count": 5,
     "metadata": {},
     "output_type": "execute_result"
    }
   ],
   "source": [
    "from sklearn.model_selection import GroupShuffleSplit\n",
    "\n",
    "def make_splits(df, group_col=\"focus_cui\", seed=42):\n",
    "    df = df.copy()\n",
    "    groups = df[group_col].fillna(df[\"focus\"]).fillna(\"NOFOCUS\")\n",
    "    gss = GroupShuffleSplit(n_splits=1, train_size=0.8, random_state=seed)\n",
    "    train_idx, temp_idx = next(gss.split(df, groups=groups))\n",
    "    train = df.iloc[train_idx]; temp = df.iloc[temp_idx]\n",
    "    gss2 = GroupShuffleSplit(n_splits=1, train_size=0.5, random_state=seed)\n",
    "    dev_idx, test_idx = next(gss2.split(temp, groups=temp[group_col].fillna(temp[\"focus\"]).fillna(\"NOFOCUS\")))\n",
    "    dev = temp.iloc[dev_idx]; test = temp.iloc[test_idx]\n",
    "    return train, dev, test\n",
    "\n",
    "train_df, dev_df, test_df = make_splits(df)\n",
    "len(train_df), len(dev_df), len(test_df)"
   ]
  },
  {
   "cell_type": "code",
   "execution_count": 6,
   "id": "a62e3649",
   "metadata": {
    "id": "a62e3649",
    "outputId": "0c18ae52-ebb4-45c9-fc0c-1d69510c4755"
   },
   "outputs": [
    {
     "name": "stdout",
     "output_type": "stream",
     "text": [
      "Total QA Pairs Parsed: 16407\n",
      "Rows with Blank Question/Answer: 0\n",
      "\n",
      "Sample of Cleaned Answer Lengths (words):\n",
      "count    16407.000000\n",
      "mean       201.354361\n",
      "std        248.480189\n",
      "min          1.000000\n",
      "25%         71.000000\n",
      "50%        138.000000\n",
      "75%        252.000000\n",
      "max       4281.000000\n",
      "Name: a_len, dtype: float64\n",
      "\n",
      "Number of QA Pairs with 1-3 Word Answers: 1\n",
      "Example of a very short answer: [['How to prevent Acanthamoeba - Granulomatous Amebic Encephalitis (GAE); Keratitis ?'\n",
      "  'Topics']]\n"
     ]
    }
   ],
   "source": [
    "# Assuming you have run the XML parsing (Cell 4) to create 'df'\n",
    "\n",
    "# Check the number of rows that had blank answers *before* dropping them:\n",
    "total_rows = len(df)\n",
    "valid_rows = len(df.dropna(subset=['question', 'answer']))\n",
    "rows_with_missing_data = total_rows - valid_rows\n",
    "\n",
    "print(f\"Total QA Pairs Parsed: {total_rows}\")\n",
    "print(f\"Rows with Blank Question/Answer: {rows_with_missing_data}\")\n",
    "\n",
    "# Display a sample of the cleaned-up answers to check for quality\n",
    "print(\"\\nSample of Cleaned Answer Lengths (words):\")\n",
    "print(df['a_len'].describe())\n",
    "\n",
    "# Check for rows where the answer might be very short (e.g., just punctuation)\n",
    "short_answers = df[df['a_len'].between(1, 3)]\n",
    "print(f\"\\nNumber of QA Pairs with 1-3 Word Answers: {len(short_answers)}\")\n",
    "if not short_answers.empty:\n",
    "    print(\"Example of a very short answer:\", short_answers[['question', 'answer']].head(1).values)"
   ]
  },
  {
   "cell_type": "markdown",
   "id": "6d42c378",
   "metadata": {
    "id": "6d42c378"
   },
   "source": [
    "## 4) Task 1 — Abstractive Answer Generation (T5-small baseline)"
   ]
  },
  {
   "cell_type": "code",
   "execution_count": 7,
   "id": "9c1c5a72",
   "metadata": {
    "colab": {
     "referenced_widgets": [
      "9d68f0c087734204864370691c68df71",
      "16499ac23d68413b97d87ee4863942d4",
      "4e140a8f1e184bc38567377a7ac2ff3d"
     ]
    },
    "id": "9c1c5a72",
    "outputId": "16cb1ee5-1275-496b-aab0-1260f3c90440"
   },
   "outputs": [
    {
     "name": "stderr",
     "output_type": "stream",
     "text": [
      "Map: 100%|██████████| 12850/12850 [00:07<00:00, 1744.15 examples/s]\n",
      "Map: 100%|██████████| 1739/1739 [00:01<00:00, 1683.32 examples/s]\n",
      "Map: 100%|██████████| 1818/1818 [00:01<00:00, 1552.06 examples/s]\n"
     ]
    }
   ],
   "source": [
    "from datasets import Dataset, DatasetDict\n",
    "from transformers import T5ForConditionalGeneration, T5TokenizerFast, DataCollatorForSeq2Seq, Trainer, TrainingArguments\n",
    "from evaluate import load as load_metric\n",
    "import numpy as np, torch\n",
    "\n",
    "def build_hf_dataset(train_df, dev_df, test_df, max_input=512, max_target=512):\n",
    "    def to_ds(frame):\n",
    "        sub = frame[[\"question\",\"answer\"]].dropna().rename(columns={\"question\":\"input_text\",\"answer\":\"target_text\"})\n",
    "        return Dataset.from_pandas(sub)\n",
    "    raw = DatasetDict(train=to_ds(train_df), validation=to_ds(dev_df), test=to_ds(test_df))\n",
    "    tok = T5TokenizerFast.from_pretrained(\"t5-small\")\n",
    "    def preprocess(ex):\n",
    "        ex[\"input_ids\"] = tok(\"question: \" + ex[\"input_text\"], truncation=True, max_length=max_input).input_ids\n",
    "        ex[\"labels\"]    = tok(ex[\"target_text\"], truncation=True, max_length=max_target).input_ids\n",
    "        return ex\n",
    "    tokenized = raw.map(preprocess, remove_columns=raw[\"train\"].column_names)\n",
    "    return tokenized, tok\n",
    "\n",
    "tokenized, tok = build_hf_dataset(train_df, dev_df, test_df)\n",
    "\n",
    "def train_t5(tokenized, tok, out_dir=\"./t5-medquad\"):\n",
    "    model = T5ForConditionalGeneration.from_pretrained(\"t5-small\")\n",
    "    collator = DataCollatorForSeq2Seq(tok, model=model)\n",
    "    args = TrainingArguments(\n",
    "        output_dir=out_dir, per_device_train_batch_size=2, per_device_eval_batch_size=2,\n",
    "        learning_rate=3e-4, num_train_epochs=5, fp16=False, eval_strategy=\"epoch\",\n",
    "        save_strategy=\"epoch\", logging_steps=50, report_to=\"none\"\n",
    "    )\n",
    "    trainer = Trainer(model=model, args=args, data_collator=collator,\n",
    "                      train_dataset=tokenized[\"train\"], eval_dataset=tokenized[\"validation\"])\n",
    "    trainer.train()\n",
    "    return trainer\n"
   ]
  },
  {
   "cell_type": "code",
   "execution_count": 8,
   "id": "faa898e3",
   "metadata": {
    "id": "faa898e3"
   },
   "outputs": [],
   "source": [
    "# Clear Memory Cache\n",
    "torch.mps.empty_cache()"
   ]
  },
  {
   "cell_type": "code",
   "execution_count": 9,
   "id": "74943817",
   "metadata": {
    "id": "74943817",
    "outputId": "939d1e28-dfe6-4045-c55f-befbb8f4b6ea"
   },
   "outputs": [
    {
     "data": {
      "text/html": [
       "\n",
       "    <div>\n",
       "      \n",
       "      <progress value='88' max='32125' style='width:300px; height:20px; vertical-align: middle;'></progress>\n",
       "      [   88/32125 00:36 < 3:44:24, 2.38 it/s, Epoch 0.01/5]\n",
       "    </div>\n",
       "    <table border=\"1\" class=\"dataframe\">\n",
       "  <thead>\n",
       " <tr style=\"text-align: left;\">\n",
       "      <th>Epoch</th>\n",
       "      <th>Training Loss</th>\n",
       "      <th>Validation Loss</th>\n",
       "    </tr>\n",
       "  </thead>\n",
       "  <tbody>\n",
       "  </tbody>\n",
       "</table><p>"
      ],
      "text/plain": [
       "<IPython.core.display.HTML object>"
      ]
     },
     "metadata": {},
     "output_type": "display_data"
    },
    {
     "ename": "RuntimeError",
     "evalue": "MPS backend out of memory (MPS allocated: 3.32 GiB, other allocations: 5.63 GiB, max allowed: 9.07 GiB). Tried to allocate 125.50 MiB on private pool. Use PYTORCH_MPS_HIGH_WATERMARK_RATIO=0.0 to disable upper limit for memory allocations (may cause system failure).",
     "output_type": "error",
     "traceback": [
      "\u001b[0;31m---------------------------------------------------------------------------\u001b[0m",
      "\u001b[0;31mRuntimeError\u001b[0m                              Traceback (most recent call last)",
      "Cell \u001b[0;32mIn[9], line 1\u001b[0m\n\u001b[0;32m----> 1\u001b[0m trainer \u001b[38;5;241m=\u001b[39m \u001b[43mtrain_t5\u001b[49m\u001b[43m(\u001b[49m\u001b[43mtokenized\u001b[49m\u001b[43m,\u001b[49m\u001b[43m \u001b[49m\u001b[43mtok\u001b[49m\u001b[43m)\u001b[49m   \u001b[38;5;66;03m# ← Uncomment to train\u001b[39;00m\n\u001b[1;32m      2\u001b[0m trainer\u001b[38;5;241m.\u001b[39msave_model(\u001b[38;5;124m\"\u001b[39m\u001b[38;5;124m./t5-medquad\u001b[39m\u001b[38;5;124m\"\u001b[39m)\n",
      "Cell \u001b[0;32mIn[7], line 31\u001b[0m, in \u001b[0;36mtrain_t5\u001b[0;34m(tokenized, tok, out_dir)\u001b[0m\n\u001b[1;32m     24\u001b[0m args \u001b[38;5;241m=\u001b[39m TrainingArguments(\n\u001b[1;32m     25\u001b[0m     output_dir\u001b[38;5;241m=\u001b[39mout_dir, per_device_train_batch_size\u001b[38;5;241m=\u001b[39m\u001b[38;5;241m2\u001b[39m, per_device_eval_batch_size\u001b[38;5;241m=\u001b[39m\u001b[38;5;241m2\u001b[39m,\n\u001b[1;32m     26\u001b[0m     learning_rate\u001b[38;5;241m=\u001b[39m\u001b[38;5;241m3e-4\u001b[39m, num_train_epochs\u001b[38;5;241m=\u001b[39m\u001b[38;5;241m5\u001b[39m, fp16\u001b[38;5;241m=\u001b[39m\u001b[38;5;28;01mFalse\u001b[39;00m, eval_strategy\u001b[38;5;241m=\u001b[39m\u001b[38;5;124m\"\u001b[39m\u001b[38;5;124mepoch\u001b[39m\u001b[38;5;124m\"\u001b[39m,\n\u001b[1;32m     27\u001b[0m     save_strategy\u001b[38;5;241m=\u001b[39m\u001b[38;5;124m\"\u001b[39m\u001b[38;5;124mepoch\u001b[39m\u001b[38;5;124m\"\u001b[39m, logging_steps\u001b[38;5;241m=\u001b[39m\u001b[38;5;241m50\u001b[39m, report_to\u001b[38;5;241m=\u001b[39m\u001b[38;5;124m\"\u001b[39m\u001b[38;5;124mnone\u001b[39m\u001b[38;5;124m\"\u001b[39m\n\u001b[1;32m     28\u001b[0m )\n\u001b[1;32m     29\u001b[0m trainer \u001b[38;5;241m=\u001b[39m Trainer(model\u001b[38;5;241m=\u001b[39mmodel, args\u001b[38;5;241m=\u001b[39margs, data_collator\u001b[38;5;241m=\u001b[39mcollator,\n\u001b[1;32m     30\u001b[0m                   train_dataset\u001b[38;5;241m=\u001b[39mtokenized[\u001b[38;5;124m\"\u001b[39m\u001b[38;5;124mtrain\u001b[39m\u001b[38;5;124m\"\u001b[39m], eval_dataset\u001b[38;5;241m=\u001b[39mtokenized[\u001b[38;5;124m\"\u001b[39m\u001b[38;5;124mvalidation\u001b[39m\u001b[38;5;124m\"\u001b[39m])\n\u001b[0;32m---> 31\u001b[0m \u001b[43mtrainer\u001b[49m\u001b[38;5;241;43m.\u001b[39;49m\u001b[43mtrain\u001b[49m\u001b[43m(\u001b[49m\u001b[43m)\u001b[49m\n\u001b[1;32m     32\u001b[0m \u001b[38;5;28;01mreturn\u001b[39;00m trainer\n",
      "File \u001b[0;32m~/miniconda3/envs/medquad_env/lib/python3.10/site-packages/transformers/trainer.py:2325\u001b[0m, in \u001b[0;36mTrainer.train\u001b[0;34m(self, resume_from_checkpoint, trial, ignore_keys_for_eval, **kwargs)\u001b[0m\n\u001b[1;32m   2323\u001b[0m         hf_hub_utils\u001b[38;5;241m.\u001b[39menable_progress_bars()\n\u001b[1;32m   2324\u001b[0m \u001b[38;5;28;01melse\u001b[39;00m:\n\u001b[0;32m-> 2325\u001b[0m     \u001b[38;5;28;01mreturn\u001b[39;00m \u001b[43minner_training_loop\u001b[49m\u001b[43m(\u001b[49m\n\u001b[1;32m   2326\u001b[0m \u001b[43m        \u001b[49m\u001b[43margs\u001b[49m\u001b[38;5;241;43m=\u001b[39;49m\u001b[43margs\u001b[49m\u001b[43m,\u001b[49m\n\u001b[1;32m   2327\u001b[0m \u001b[43m        \u001b[49m\u001b[43mresume_from_checkpoint\u001b[49m\u001b[38;5;241;43m=\u001b[39;49m\u001b[43mresume_from_checkpoint\u001b[49m\u001b[43m,\u001b[49m\n\u001b[1;32m   2328\u001b[0m \u001b[43m        \u001b[49m\u001b[43mtrial\u001b[49m\u001b[38;5;241;43m=\u001b[39;49m\u001b[43mtrial\u001b[49m\u001b[43m,\u001b[49m\n\u001b[1;32m   2329\u001b[0m \u001b[43m        \u001b[49m\u001b[43mignore_keys_for_eval\u001b[49m\u001b[38;5;241;43m=\u001b[39;49m\u001b[43mignore_keys_for_eval\u001b[49m\u001b[43m,\u001b[49m\n\u001b[1;32m   2330\u001b[0m \u001b[43m    \u001b[49m\u001b[43m)\u001b[49m\n",
      "File \u001b[0;32m~/miniconda3/envs/medquad_env/lib/python3.10/site-packages/transformers/trainer.py:2674\u001b[0m, in \u001b[0;36mTrainer._inner_training_loop\u001b[0;34m(self, batch_size, args, resume_from_checkpoint, trial, ignore_keys_for_eval)\u001b[0m\n\u001b[1;32m   2667\u001b[0m context \u001b[38;5;241m=\u001b[39m (\n\u001b[1;32m   2668\u001b[0m     functools\u001b[38;5;241m.\u001b[39mpartial(\u001b[38;5;28mself\u001b[39m\u001b[38;5;241m.\u001b[39maccelerator\u001b[38;5;241m.\u001b[39mno_sync, model\u001b[38;5;241m=\u001b[39mmodel)\n\u001b[1;32m   2669\u001b[0m     \u001b[38;5;28;01mif\u001b[39;00m i \u001b[38;5;241m!=\u001b[39m \u001b[38;5;28mlen\u001b[39m(batch_samples) \u001b[38;5;241m-\u001b[39m \u001b[38;5;241m1\u001b[39m\n\u001b[1;32m   2670\u001b[0m     \u001b[38;5;129;01mand\u001b[39;00m \u001b[38;5;28mself\u001b[39m\u001b[38;5;241m.\u001b[39maccelerator\u001b[38;5;241m.\u001b[39mdistributed_type \u001b[38;5;241m!=\u001b[39m DistributedType\u001b[38;5;241m.\u001b[39mDEEPSPEED\n\u001b[1;32m   2671\u001b[0m     \u001b[38;5;28;01melse\u001b[39;00m contextlib\u001b[38;5;241m.\u001b[39mnullcontext\n\u001b[1;32m   2672\u001b[0m )\n\u001b[1;32m   2673\u001b[0m \u001b[38;5;28;01mwith\u001b[39;00m context():\n\u001b[0;32m-> 2674\u001b[0m     tr_loss_step \u001b[38;5;241m=\u001b[39m \u001b[38;5;28;43mself\u001b[39;49m\u001b[38;5;241;43m.\u001b[39;49m\u001b[43mtraining_step\u001b[49m\u001b[43m(\u001b[49m\u001b[43mmodel\u001b[49m\u001b[43m,\u001b[49m\u001b[43m \u001b[49m\u001b[43minputs\u001b[49m\u001b[43m,\u001b[49m\u001b[43m \u001b[49m\u001b[43mnum_items_in_batch\u001b[49m\u001b[43m)\u001b[49m\n\u001b[1;32m   2676\u001b[0m \u001b[38;5;28;01mif\u001b[39;00m (\n\u001b[1;32m   2677\u001b[0m     args\u001b[38;5;241m.\u001b[39mlogging_nan_inf_filter\n\u001b[1;32m   2678\u001b[0m     \u001b[38;5;129;01mand\u001b[39;00m \u001b[38;5;129;01mnot\u001b[39;00m is_torch_xla_available()\n\u001b[1;32m   2679\u001b[0m     \u001b[38;5;129;01mand\u001b[39;00m (torch\u001b[38;5;241m.\u001b[39misnan(tr_loss_step) \u001b[38;5;129;01mor\u001b[39;00m torch\u001b[38;5;241m.\u001b[39misinf(tr_loss_step))\n\u001b[1;32m   2680\u001b[0m ):\n\u001b[1;32m   2681\u001b[0m     \u001b[38;5;66;03m# if loss is nan or inf simply add the average of previous logged losses\u001b[39;00m\n\u001b[1;32m   2682\u001b[0m     tr_loss \u001b[38;5;241m=\u001b[39m tr_loss \u001b[38;5;241m+\u001b[39m tr_loss \u001b[38;5;241m/\u001b[39m (\u001b[38;5;241m1\u001b[39m \u001b[38;5;241m+\u001b[39m \u001b[38;5;28mself\u001b[39m\u001b[38;5;241m.\u001b[39mstate\u001b[38;5;241m.\u001b[39mglobal_step \u001b[38;5;241m-\u001b[39m \u001b[38;5;28mself\u001b[39m\u001b[38;5;241m.\u001b[39m_globalstep_last_logged)\n",
      "File \u001b[0;32m~/miniconda3/envs/medquad_env/lib/python3.10/site-packages/transformers/trainer.py:4071\u001b[0m, in \u001b[0;36mTrainer.training_step\u001b[0;34m(***failed resolving arguments***)\u001b[0m\n\u001b[1;32m   4068\u001b[0m     \u001b[38;5;28;01mif\u001b[39;00m \u001b[38;5;28mself\u001b[39m\u001b[38;5;241m.\u001b[39maccelerator\u001b[38;5;241m.\u001b[39mdistributed_type \u001b[38;5;241m==\u001b[39m DistributedType\u001b[38;5;241m.\u001b[39mDEEPSPEED:\n\u001b[1;32m   4069\u001b[0m         kwargs[\u001b[38;5;124m\"\u001b[39m\u001b[38;5;124mscale_wrt_gas\u001b[39m\u001b[38;5;124m\"\u001b[39m] \u001b[38;5;241m=\u001b[39m \u001b[38;5;28;01mFalse\u001b[39;00m\n\u001b[0;32m-> 4071\u001b[0m     \u001b[38;5;28;43mself\u001b[39;49m\u001b[38;5;241;43m.\u001b[39;49m\u001b[43maccelerator\u001b[49m\u001b[38;5;241;43m.\u001b[39;49m\u001b[43mbackward\u001b[49m\u001b[43m(\u001b[49m\u001b[43mloss\u001b[49m\u001b[43m,\u001b[49m\u001b[43m \u001b[49m\u001b[38;5;241;43m*\u001b[39;49m\u001b[38;5;241;43m*\u001b[39;49m\u001b[43mkwargs\u001b[49m\u001b[43m)\u001b[49m\n\u001b[1;32m   4073\u001b[0m \u001b[38;5;28;01mreturn\u001b[39;00m loss\u001b[38;5;241m.\u001b[39mdetach()\n",
      "File \u001b[0;32m~/miniconda3/envs/medquad_env/lib/python3.10/site-packages/accelerate/accelerator.py:2740\u001b[0m, in \u001b[0;36mAccelerator.backward\u001b[0;34m(self, loss, **kwargs)\u001b[0m\n\u001b[1;32m   2738\u001b[0m     \u001b[38;5;28mself\u001b[39m\u001b[38;5;241m.\u001b[39mlomo_backward(loss, learning_rate)\n\u001b[1;32m   2739\u001b[0m \u001b[38;5;28;01melse\u001b[39;00m:\n\u001b[0;32m-> 2740\u001b[0m     \u001b[43mloss\u001b[49m\u001b[38;5;241;43m.\u001b[39;49m\u001b[43mbackward\u001b[49m\u001b[43m(\u001b[49m\u001b[38;5;241;43m*\u001b[39;49m\u001b[38;5;241;43m*\u001b[39;49m\u001b[43mkwargs\u001b[49m\u001b[43m)\u001b[49m\n",
      "File \u001b[0;32m~/miniconda3/envs/medquad_env/lib/python3.10/site-packages/torch/_tensor.py:647\u001b[0m, in \u001b[0;36mTensor.backward\u001b[0;34m(self, gradient, retain_graph, create_graph, inputs)\u001b[0m\n\u001b[1;32m    637\u001b[0m \u001b[38;5;28;01mif\u001b[39;00m has_torch_function_unary(\u001b[38;5;28mself\u001b[39m):\n\u001b[1;32m    638\u001b[0m     \u001b[38;5;28;01mreturn\u001b[39;00m handle_torch_function(\n\u001b[1;32m    639\u001b[0m         Tensor\u001b[38;5;241m.\u001b[39mbackward,\n\u001b[1;32m    640\u001b[0m         (\u001b[38;5;28mself\u001b[39m,),\n\u001b[0;32m   (...)\u001b[0m\n\u001b[1;32m    645\u001b[0m         inputs\u001b[38;5;241m=\u001b[39minputs,\n\u001b[1;32m    646\u001b[0m     )\n\u001b[0;32m--> 647\u001b[0m \u001b[43mtorch\u001b[49m\u001b[38;5;241;43m.\u001b[39;49m\u001b[43mautograd\u001b[49m\u001b[38;5;241;43m.\u001b[39;49m\u001b[43mbackward\u001b[49m\u001b[43m(\u001b[49m\n\u001b[1;32m    648\u001b[0m \u001b[43m    \u001b[49m\u001b[38;5;28;43mself\u001b[39;49m\u001b[43m,\u001b[49m\u001b[43m \u001b[49m\u001b[43mgradient\u001b[49m\u001b[43m,\u001b[49m\u001b[43m \u001b[49m\u001b[43mretain_graph\u001b[49m\u001b[43m,\u001b[49m\u001b[43m \u001b[49m\u001b[43mcreate_graph\u001b[49m\u001b[43m,\u001b[49m\u001b[43m \u001b[49m\u001b[43minputs\u001b[49m\u001b[38;5;241;43m=\u001b[39;49m\u001b[43minputs\u001b[49m\n\u001b[1;32m    649\u001b[0m \u001b[43m\u001b[49m\u001b[43m)\u001b[49m\n",
      "File \u001b[0;32m~/miniconda3/envs/medquad_env/lib/python3.10/site-packages/torch/autograd/__init__.py:354\u001b[0m, in \u001b[0;36mbackward\u001b[0;34m(tensors, grad_tensors, retain_graph, create_graph, grad_variables, inputs)\u001b[0m\n\u001b[1;32m    349\u001b[0m     retain_graph \u001b[38;5;241m=\u001b[39m create_graph\n\u001b[1;32m    351\u001b[0m \u001b[38;5;66;03m# The reason we repeat the same comment below is that\u001b[39;00m\n\u001b[1;32m    352\u001b[0m \u001b[38;5;66;03m# some Python versions print out the first line of a multi-line function\u001b[39;00m\n\u001b[1;32m    353\u001b[0m \u001b[38;5;66;03m# calls in the traceback and some print out the last line\u001b[39;00m\n\u001b[0;32m--> 354\u001b[0m \u001b[43m_engine_run_backward\u001b[49m\u001b[43m(\u001b[49m\n\u001b[1;32m    355\u001b[0m \u001b[43m    \u001b[49m\u001b[43mtensors\u001b[49m\u001b[43m,\u001b[49m\n\u001b[1;32m    356\u001b[0m \u001b[43m    \u001b[49m\u001b[43mgrad_tensors_\u001b[49m\u001b[43m,\u001b[49m\n\u001b[1;32m    357\u001b[0m \u001b[43m    \u001b[49m\u001b[43mretain_graph\u001b[49m\u001b[43m,\u001b[49m\n\u001b[1;32m    358\u001b[0m \u001b[43m    \u001b[49m\u001b[43mcreate_graph\u001b[49m\u001b[43m,\u001b[49m\n\u001b[1;32m    359\u001b[0m \u001b[43m    \u001b[49m\u001b[43minputs_tuple\u001b[49m\u001b[43m,\u001b[49m\n\u001b[1;32m    360\u001b[0m \u001b[43m    \u001b[49m\u001b[43mallow_unreachable\u001b[49m\u001b[38;5;241;43m=\u001b[39;49m\u001b[38;5;28;43;01mTrue\u001b[39;49;00m\u001b[43m,\u001b[49m\n\u001b[1;32m    361\u001b[0m \u001b[43m    \u001b[49m\u001b[43maccumulate_grad\u001b[49m\u001b[38;5;241;43m=\u001b[39;49m\u001b[38;5;28;43;01mTrue\u001b[39;49;00m\u001b[43m,\u001b[49m\n\u001b[1;32m    362\u001b[0m \u001b[43m\u001b[49m\u001b[43m)\u001b[49m\n",
      "File \u001b[0;32m~/miniconda3/envs/medquad_env/lib/python3.10/site-packages/torch/autograd/graph.py:829\u001b[0m, in \u001b[0;36m_engine_run_backward\u001b[0;34m(t_outputs, *args, **kwargs)\u001b[0m\n\u001b[1;32m    827\u001b[0m     unregister_hooks \u001b[38;5;241m=\u001b[39m _register_logging_hooks_on_whole_graph(t_outputs)\n\u001b[1;32m    828\u001b[0m \u001b[38;5;28;01mtry\u001b[39;00m:\n\u001b[0;32m--> 829\u001b[0m     \u001b[38;5;28;01mreturn\u001b[39;00m \u001b[43mVariable\u001b[49m\u001b[38;5;241;43m.\u001b[39;49m\u001b[43m_execution_engine\u001b[49m\u001b[38;5;241;43m.\u001b[39;49m\u001b[43mrun_backward\u001b[49m\u001b[43m(\u001b[49m\u001b[43m  \u001b[49m\u001b[38;5;66;43;03m# Calls into the C++ engine to run the backward pass\u001b[39;49;00m\n\u001b[1;32m    830\u001b[0m \u001b[43m        \u001b[49m\u001b[43mt_outputs\u001b[49m\u001b[43m,\u001b[49m\u001b[43m \u001b[49m\u001b[38;5;241;43m*\u001b[39;49m\u001b[43margs\u001b[49m\u001b[43m,\u001b[49m\u001b[43m \u001b[49m\u001b[38;5;241;43m*\u001b[39;49m\u001b[38;5;241;43m*\u001b[39;49m\u001b[43mkwargs\u001b[49m\n\u001b[1;32m    831\u001b[0m \u001b[43m    \u001b[49m\u001b[43m)\u001b[49m  \u001b[38;5;66;03m# Calls into the C++ engine to run the backward pass\u001b[39;00m\n\u001b[1;32m    832\u001b[0m \u001b[38;5;28;01mfinally\u001b[39;00m:\n\u001b[1;32m    833\u001b[0m     \u001b[38;5;28;01mif\u001b[39;00m attach_logging_hooks:\n",
      "\u001b[0;31mRuntimeError\u001b[0m: MPS backend out of memory (MPS allocated: 3.32 GiB, other allocations: 5.63 GiB, max allowed: 9.07 GiB). Tried to allocate 125.50 MiB on private pool. Use PYTORCH_MPS_HIGH_WATERMARK_RATIO=0.0 to disable upper limit for memory allocations (may cause system failure)."
     ]
    }
   ],
   "source": [
    "trainer = train_t5(tokenized, tok)   # ← Uncomment to train\n",
    "trainer.save_model(\"./t5-medquad\")"
   ]
  },
  {
   "cell_type": "code",
   "execution_count": null,
   "id": "e3d35eb8",
   "metadata": {
    "id": "e3d35eb8"
   },
   "outputs": [],
   "source": [
    "def eval_generation(model_dir, tokenized, tok):\n",
    "    # This function is assumed to be run after the model has been trained and saved to model_dir\n",
    "    import torch, numpy as np\n",
    "    from evaluate import load as load_metric\n",
    "    from transformers import T5ForConditionalGeneration # Note: Use AutoModelForSeq2SeqLM if using BioBART\n",
    "\n",
    "    rouge = load_metric(\"rouge\")\n",
    "    bertscore = load_metric(\"bertscore\")\n",
    "\n",
    "    # Load the model and ensure it uses the M4 GPU\n",
    "    model = T5ForConditionalGeneration.from_pretrained(model_dir)\n",
    "    DEVICE = torch.device(\"mps\" if torch.backends.mps.is_available() else \"cpu\")\n",
    "    model.to(DEVICE)\n",
    "\n",
    "    # Select a subset of the test data (e.g., 256 examples)\n",
    "    test = tokenized[\"test\"].select(range(min(256, len(tokenized[\"test\"]))))\n",
    "\n",
    "    # --- Generation Logic (Assumed Correct and Working) ---\n",
    "    input_ids_list = test[\"input_ids\"]\n",
    "    padded_inputs = tok.pad(\n",
    "        {'input_ids': input_ids_list},\n",
    "        return_tensors=\"pt\"\n",
    "    ).input_ids.to(DEVICE)\n",
    "\n",
    "    preds = model.generate(padded_inputs, max_new_tokens=256)\n",
    "\n",
    "    pred_text = tok.batch_decode(preds, skip_special_tokens=True)\n",
    "    ref_text  = tok.batch_decode(test[\"labels\"], skip_special_tokens=True)\n",
    "\n",
    "    # --- Metrics Calculation ---\n",
    "    r = rouge.compute(predictions=pred_text, references=ref_text, use_stemmer=True)\n",
    "    b = bertscore.compute(predictions=pred_text, references=ref_text, lang=\"en\")\n",
    "\n",
    "    # FINAL FIX: Access the ROUGE-L score directly as the key's value.\n",
    "    print(\"ROUGE-L:\", r[\"rougeL\"], \" BERTScore(F1):\", float(np.mean(b[\"f1\"])))"
   ]
  },
  {
   "cell_type": "code",
   "execution_count": null,
   "id": "f289cd50-a072-4dda-9924-389043271e0f",
   "metadata": {
    "id": "f289cd50-a072-4dda-9924-389043271e0f",
    "outputId": "928dcfe4-8ab0-411a-cab3-18031ebb9121"
   },
   "outputs": [
    {
     "name": "stderr",
     "output_type": "stream",
     "text": [
      "Some weights of RobertaModel were not initialized from the model checkpoint at roberta-large and are newly initialized: ['pooler.dense.bias', 'pooler.dense.weight']\n",
      "You should probably TRAIN this model on a down-stream task to be able to use it for predictions and inference.\n"
     ]
    },
    {
     "name": "stdout",
     "output_type": "stream",
     "text": [
      "ROUGE-L: 0.4064322101893944  BERTScore(F1): 0.884045472368598\n"
     ]
    }
   ],
   "source": [
    "# Assuming your trained model was saved to the T5 folder as planned\n",
    "# NOTE: If you trained BioBART, you must change the directory name.\n",
    "\n",
    "eval_generation(\n",
    "    model_dir=\"./t5-medquad\",     # The directory where trainer.save_model() stored the weights\n",
    "    tokenized=tokenized,          # The DatasetDict containing the 'test' set\n",
    "    tok=tok                       # The T5TokenizerFast object\n",
    ")"
   ]
  },
  {
   "cell_type": "code",
   "execution_count": null,
   "id": "efbb07bb-e9ac-4b3c-b326-5975e8faaee9",
   "metadata": {
    "id": "efbb07bb-e9ac-4b3c-b326-5975e8faaee9",
    "outputId": "0133e334-3f17-4cfb-abf6-6e6070ad8422"
   },
   "outputs": [
    {
     "name": "stdout",
     "output_type": "stream",
     "text": [
      "Qualitative Results (Top 10 Examples):\n",
      "\n"
     ]
    },
    {
     "data": {
      "text/html": [
       "<div>\n",
       "<style scoped>\n",
       "    .dataframe tbody tr th:only-of-type {\n",
       "        vertical-align: middle;\n",
       "    }\n",
       "\n",
       "    .dataframe tbody tr th {\n",
       "        vertical-align: top;\n",
       "    }\n",
       "\n",
       "    .dataframe thead th {\n",
       "        text-align: right;\n",
       "    }\n",
       "</style>\n",
       "<table border=\"1\" class=\"dataframe\">\n",
       "  <thead>\n",
       "    <tr style=\"text-align: right;\">\n",
       "      <th></th>\n",
       "      <th>Question</th>\n",
       "      <th>Candidate_Answer</th>\n",
       "      <th>Reference_Answer</th>\n",
       "    </tr>\n",
       "  </thead>\n",
       "  <tbody>\n",
       "    <tr>\n",
       "      <th>0</th>\n",
       "      <td>What is (are) keratoderma with woolly hair?</td>\n",
       "      <td>Keratoderma with woolly hair is a skin conditi...</td>\n",
       "      <td>Keratoderma with woolly hair is a group of rel...</td>\n",
       "    </tr>\n",
       "    <tr>\n",
       "      <th>1</th>\n",
       "      <td>How many people are affected by keratoderma wi...</td>\n",
       "      <td>Keratoderma with woolly hair is a rare conditi...</td>\n",
       "      <td>Keratoderma with woolly hair is rare; its prev...</td>\n",
       "    </tr>\n",
       "    <tr>\n",
       "      <th>2</th>\n",
       "      <td>What are the genetic changes related to kerato...</td>\n",
       "      <td>Keratoderma with woolly hair is caused by muta...</td>\n",
       "      <td>Mutations in the JUP, DSP, DSC2, and KANK2 gen...</td>\n",
       "    </tr>\n",
       "    <tr>\n",
       "      <th>3</th>\n",
       "      <td>Is keratoderma with woolly hair inherited?</td>\n",
       "      <td>This condition is inherited in an autosomal re...</td>\n",
       "      <td>Most cases of keratoderma with woolly hair hav...</td>\n",
       "    </tr>\n",
       "    <tr>\n",
       "      <th>4</th>\n",
       "      <td>What are the treatments for keratoderma with w...</td>\n",
       "      <td>These resources address the diagnosis or manag...</td>\n",
       "      <td>These resources address the diagnosis or manag...</td>\n",
       "    </tr>\n",
       "    <tr>\n",
       "      <th>5</th>\n",
       "      <td>What is (are) trisomy 18?</td>\n",
       "      <td>Trisomy 18 is an inherited disorder that affec...</td>\n",
       "      <td>Trisomy 18, also called Edwards syndrome, is a...</td>\n",
       "    </tr>\n",
       "    <tr>\n",
       "      <th>6</th>\n",
       "      <td>How many people are affected by trisomy 18?</td>\n",
       "      <td>Trisomy 18 is a rare disorder; its prevalence ...</td>\n",
       "      <td>Trisomy 18 occurs in about 1 in 5,000 live-bor...</td>\n",
       "    </tr>\n",
       "    <tr>\n",
       "      <th>7</th>\n",
       "      <td>What are the genetic changes related to trisom...</td>\n",
       "      <td>Trisomy 18 is caused by mutations in the COL1A...</td>\n",
       "      <td>Most cases of trisomy 18 result from having th...</td>\n",
       "    </tr>\n",
       "    <tr>\n",
       "      <th>8</th>\n",
       "      <td>Is trisomy 18 inherited?</td>\n",
       "      <td>This condition is inherited in an autosomal re...</td>\n",
       "      <td>Most cases of trisomy 18 are not inherited, bu...</td>\n",
       "    </tr>\n",
       "    <tr>\n",
       "      <th>9</th>\n",
       "      <td>What are the treatments for trisomy 18?</td>\n",
       "      <td>These resources address the diagnosis or manag...</td>\n",
       "      <td>These resources address the diagnosis or manag...</td>\n",
       "    </tr>\n",
       "  </tbody>\n",
       "</table>\n",
       "</div>"
      ],
      "text/plain": [
       "                                            Question  \\\n",
       "0        What is (are) keratoderma with woolly hair?   \n",
       "1  How many people are affected by keratoderma wi...   \n",
       "2  What are the genetic changes related to kerato...   \n",
       "3         Is keratoderma with woolly hair inherited?   \n",
       "4  What are the treatments for keratoderma with w...   \n",
       "5                          What is (are) trisomy 18?   \n",
       "6        How many people are affected by trisomy 18?   \n",
       "7  What are the genetic changes related to trisom...   \n",
       "8                           Is trisomy 18 inherited?   \n",
       "9            What are the treatments for trisomy 18?   \n",
       "\n",
       "                                    Candidate_Answer  \\\n",
       "0  Keratoderma with woolly hair is a skin conditi...   \n",
       "1  Keratoderma with woolly hair is a rare conditi...   \n",
       "2  Keratoderma with woolly hair is caused by muta...   \n",
       "3  This condition is inherited in an autosomal re...   \n",
       "4  These resources address the diagnosis or manag...   \n",
       "5  Trisomy 18 is an inherited disorder that affec...   \n",
       "6  Trisomy 18 is a rare disorder; its prevalence ...   \n",
       "7  Trisomy 18 is caused by mutations in the COL1A...   \n",
       "8  This condition is inherited in an autosomal re...   \n",
       "9  These resources address the diagnosis or manag...   \n",
       "\n",
       "                                    Reference_Answer  \n",
       "0  Keratoderma with woolly hair is a group of rel...  \n",
       "1  Keratoderma with woolly hair is rare; its prev...  \n",
       "2  Mutations in the JUP, DSP, DSC2, and KANK2 gen...  \n",
       "3  Most cases of keratoderma with woolly hair hav...  \n",
       "4  These resources address the diagnosis or manag...  \n",
       "5  Trisomy 18, also called Edwards syndrome, is a...  \n",
       "6  Trisomy 18 occurs in about 1 in 5,000 live-bor...  \n",
       "7  Most cases of trisomy 18 result from having th...  \n",
       "8  Most cases of trisomy 18 are not inherited, bu...  \n",
       "9  These resources address the diagnosis or manag...  "
      ]
     },
     "execution_count": 17,
     "metadata": {},
     "output_type": "execute_result"
    }
   ],
   "source": [
    "def get_qualitative_results(model_dir, tokenized, tok, num_examples=10):\n",
    "    \"\"\"\n",
    "    Loads the trained model, generates predictions, and returns a DataFrame\n",
    "    showing the Question, Model Answer, and Reference Answer.\n",
    "    \"\"\"\n",
    "    import torch\n",
    "    import pandas as pd\n",
    "    from transformers import AutoModelForSeq2SeqLM\n",
    "\n",
    "    # 1. Load Model and Set Device\n",
    "    model = AutoModelForSeq2SeqLM.from_pretrained(model_dir)\n",
    "    DEVICE = torch.device(\"mps\" if torch.backends.mps.is_available() else \"cpu\")\n",
    "    model.to(DEVICE)\n",
    "\n",
    "    # 2. Select Test Subset (This is where the data is loaded)\n",
    "    test_subset = tokenized[\"test\"].select(range(num_examples))\n",
    "\n",
    "    # 3. Prepare Input IDs with Padding\n",
    "    input_ids_list = test_subset[\"input_ids\"]\n",
    "    padded_inputs = tok.pad(\n",
    "        {'input_ids': input_ids_list},\n",
    "        return_tensors=\"pt\"\n",
    "    ).input_ids.to(DEVICE)\n",
    "\n",
    "    # 4. Generate Predictions\n",
    "    preds = model.generate(\n",
    "        padded_inputs,\n",
    "        max_new_tokens=256,\n",
    "        num_beams=4,\n",
    "        do_sample=False\n",
    "    )\n",
    "\n",
    "    # 5. Decode Results (The Fix is here)\n",
    "    pred_text = tok.batch_decode(preds, skip_special_tokens=True)\n",
    "\n",
    "    # --- FIX START: Restore Question Text from Tokens ---\n",
    "    # a. Decode the input tokens (which contain the text + \"question: \" prefix)\n",
    "    questions_with_prefix = tok.batch_decode(test_subset[\"input_ids\"], skip_special_tokens=True)\n",
    "    # b. Strip the \"question: \" prefix (T5 instruction) for a clean display\n",
    "    questions = [q.replace('question: ', '').strip() for q in questions_with_prefix]\n",
    "    # c. Decode the reference labels\n",
    "    ref_text  = tok.batch_decode(test_subset[\"labels\"], skip_special_tokens=True)\n",
    "    # --- FIX END ---\n",
    "\n",
    "    # 6. Compile and Return DataFrame\n",
    "    results_df = pd.DataFrame({\n",
    "        'Question': questions,\n",
    "        'Candidate_Answer': pred_text,\n",
    "        'Reference_Answer': ref_text\n",
    "    })\n",
    "    return results_df\n",
    "\n",
    "# --- EXECUTION ---\n",
    "# NOTE: Use \"./biobart-medquad\" if you trained the BioBART model.\n",
    "qual_df = get_qualitative_results(\n",
    "    model_dir=\"./t5-medquad\",\n",
    "    tokenized=tokenized,\n",
    "    tok=tok,\n",
    "    num_examples=10\n",
    ")\n",
    "\n",
    "print(f\"Qualitative Results (Top 10 Examples):\\n\")\n",
    "qual_df.head(10)"
   ]
  },
  {
   "cell_type": "markdown",
   "id": "b6319786",
   "metadata": {
    "id": "b6319786"
   },
   "source": [
    "## 5) Task 2 — Paraphrase Detection (Siamese baseline)"
   ]
  },
  {
   "cell_type": "code",
   "execution_count": null,
   "id": "fbfc3e33",
   "metadata": {
    "id": "fbfc3e33",
    "outputId": "acdf060f-5f52-4b04-c05a-dc6c0c996d2c"
   },
   "outputs": [
    {
     "data": {
      "text/plain": [
       "(26280, 6570, np.float64(0.60882800608828))"
      ]
     },
     "execution_count": 7,
     "metadata": {},
     "output_type": "execute_result"
    }
   ],
   "source": [
    "from itertools import combinations\n",
    "from sklearn.model_selection import train_test_split\n",
    "\n",
    "def build_paraphrase_pairs(df, max_pos=20000, max_neg=20000, seed=13):\n",
    "    df2 = df.dropna(subset=[\"question\"]).copy()\n",
    "    pos = []\n",
    "    for cui, block in df2.groupby(df2[\"focus_cui\"].fillna(\"NOFOCUS\")):\n",
    "        qs = block[\"question\"].drop_duplicates().tolist()\n",
    "        for a,b in combinations(qs, 2):\n",
    "            pos.append((a,b,1))\n",
    "            if len(pos) >= max_pos: break\n",
    "        if len(pos) >= max_pos: break\n",
    "    a_list = df2[\"question\"].sample(min(max_neg, len(df2)), random_state=seed).tolist()\n",
    "    b_list = df2[\"question\"].sample(min(max_neg, len(df2)), random_state=seed+1).tolist()\n",
    "    neg = [(a,b,0) for a,b in zip(a_list,b_list) if a!=b][:max_neg]\n",
    "    pairs = pd.DataFrame(pos+neg, columns=[\"q1\",\"q2\",\"label\"]).sample(frac=1, random_state=seed).reset_index(drop=True)\n",
    "    return pairs\n",
    "\n",
    "pairs = build_paraphrase_pairs(train_df)\n",
    "pairs_train, pairs_dev = train_test_split(pairs, test_size=0.2, random_state=7, stratify=pairs[\"label\"])\n",
    "len(pairs_train), len(pairs_dev), pairs_train[\"label\"].mean()"
   ]
  },
  {
   "cell_type": "code",
   "execution_count": null,
   "id": "d72a5947",
   "metadata": {
    "colab": {
     "referenced_widgets": [
      "14ae04db270d4f0b9ff6787b21cc006c"
     ]
    },
    "id": "d72a5947",
    "outputId": "64daae94-c9bb-44d3-8139-dbb9b190b48d"
   },
   "outputs": [
    {
     "data": {
      "application/vnd.jupyter.widget-view+json": {
       "model_id": "14ae04db270d4f0b9ff6787b21cc006c",
       "version_major": 2,
       "version_minor": 0
      },
      "text/plain": [
       "Computing widget examples:   0%|          | 0/1 [00:00<?, ?example/s]"
      ]
     },
     "metadata": {},
     "output_type": "display_data"
    },
    {
     "data": {
      "text/html": [
       "\n",
       "    <div>\n",
       "      \n",
       "      <progress value='822' max='822' style='width:300px; height:20px; vertical-align: middle;'></progress>\n",
       "      [822/822 01:26, Epoch 1/1]\n",
       "    </div>\n",
       "    <table border=\"1\" class=\"dataframe\">\n",
       "  <thead>\n",
       " <tr style=\"text-align: left;\">\n",
       "      <th>Step</th>\n",
       "      <th>Training Loss</th>\n",
       "    </tr>\n",
       "  </thead>\n",
       "  <tbody>\n",
       "    <tr>\n",
       "      <td>500</td>\n",
       "      <td>0.041200</td>\n",
       "    </tr>\n",
       "  </tbody>\n",
       "</table><p>"
      ],
      "text/plain": [
       "<IPython.core.display.HTML object>"
      ]
     },
     "metadata": {},
     "output_type": "display_data"
    }
   ],
   "source": [
    "from sentence_transformers import SentenceTransformer, InputExample, losses\n",
    "from torch.utils.data import DataLoader\n",
    "import torch, numpy as np\n",
    "\n",
    "def train_siamese(pairs, model_name=\"sentence-transformers/all-MiniLM-L6-v2\", epochs=1):\n",
    "    model = SentenceTransformer(model_name)\n",
    "    train_ex = [InputExample(texts=[r.q1, r.q2], label=float(r.label)) for _,r in pairs.iterrows()]\n",
    "    loader = DataLoader(train_ex, shuffle=True, batch_size=32)\n",
    "    train_loss = losses.CosineSimilarityLoss(model)\n",
    "    model.fit(train_objectives=[(loader, train_loss)], epochs=epochs, warmup_steps=max(1, int(len(loader)*0.1)))\n",
    "    return model\n",
    "\n",
    "sbert = train_siamese(pairs_train)        # ← Uncomment to train\n",
    "sbert.save(\"./sbert-paraphrase-medquad\")"
   ]
  },
  {
   "cell_type": "code",
   "execution_count": null,
   "id": "6d5414b8",
   "metadata": {
    "id": "6d5414b8",
    "outputId": "51c238af-55a7-4954-b97a-5dcb18879a15"
   },
   "outputs": [
    {
     "data": {
      "text/plain": [
       "0.9894977168949771"
      ]
     },
     "execution_count": 23,
     "metadata": {},
     "output_type": "execute_result"
    }
   ],
   "source": [
    "def eval_siamese(model_dir, eval_df, thresh=0.5):\n",
    "    model = SentenceTransformer(model_dir)\n",
    "    a = model.encode(eval_df[\"q1\"].tolist(), convert_to_tensor=True, show_progress_bar=False)\n",
    "    b = model.encode(eval_df[\"q2\"].tolist(), convert_to_tensor=True, show_progress_bar=False)\n",
    "    sims = torch.nn.functional.cosine_similarity(a,b).cpu().numpy()\n",
    "    preds = (sims >= thresh).astype(int)\n",
    "    acc = (preds == eval_df[\"label\"].values).mean()\n",
    "    return float(acc)\n",
    "\n",
    "eval_siamese(\"./sbert-paraphrase-medquad\", pairs_dev)  # ← Evaluate after training"
   ]
  },
  {
   "cell_type": "markdown",
   "id": "2bbce330",
   "metadata": {
    "id": "2bbce330"
   },
   "source": [
    "## 6) Task 3 — RAG"
   ]
  },
  {
   "cell_type": "code",
   "execution_count": 18,
   "id": "149a8ab2",
   "metadata": {},
   "outputs": [],
   "source": [
    "import pandas as pd\n",
    "import numpy as np\n",
    "from sentence_transformers import SentenceTransformer\n",
    "from rank_bm25 import BM25Okapi\n",
    "import nltk\n",
    "from nltk.tokenize import word_tokenize\n",
    "from transformers import T5ForConditionalGeneration, T5TokenizerFast\n",
    "import torch"
   ]
  },
  {
   "cell_type": "markdown",
   "id": "45e6084f",
   "metadata": {},
   "source": [
    "## Simple RAG Implementation for Beginners\n",
    "\n",
    "This section provides a simplified, beginner-friendly implementation of Retrieval-Augmented Generation (RAG) that builds upon the existing complex RAG system in the notebook. The implementation includes:\n",
    "\n",
    "1. **Modular Design**: Easy to understand and modify components\n",
    "2. **Multiple Retrieval Methods**: BM25, Dense, and Hybrid approaches\n",
    "3. **Simple Generation**: Straightforward T5-based answer generation\n",
    "4. **Clear Documentation**: Step-by-step explanations for beginners\n"
   ]
  },
  {
   "cell_type": "code",
   "execution_count": 19,
   "id": "2fa01ad3-0c78-46fe-991e-c0b0887022b4",
   "metadata": {},
   "outputs": [
    {
     "data": {
      "text/plain": [
       "True"
      ]
     },
     "execution_count": 19,
     "metadata": {},
     "output_type": "execute_result"
    }
   ],
   "source": [
    "import nltk\n",
    "from nltk.corpus import stopwords\n",
    "from nltk.stem import PorterStemmer\n",
    "from nltk.tokenize import word_tokenize\n",
    "\n",
    "# Download required NLTK data\n",
    "nltk.download('punkt', quiet=True)\n",
    "nltk.download('stopwords', quiet=True)"
   ]
  },
  {
   "cell_type": "code",
   "execution_count": 20,
   "id": "6ff41978",
   "metadata": {},
   "outputs": [],
   "source": [
    "# Download required NLTK data\n",
    "nltk.download('punkt', quiet=True)\n",
    "\n",
    "class RAG:\n",
    "    def __init__(self, model_name=\"sentence-transformers/all-MiniLM-L6-v2\"):\n",
    "        \"\"\"\n",
    "        Initialize a simple RAG system\n",
    "        \n",
    "        Args:\n",
    "            model_name: Sentence transformer model for dense retrieval\n",
    "        \"\"\"\n",
    "        from sentence_transformers import SentenceTransformer\n",
    "        self.dense_encoder = SentenceTransformer(model_name)\n",
    "        self.bm25 = None\n",
    "        self.corpus = []\n",
    "        self.corpus_embeddings = None\n",
    "        self.generator_tokenizer = None\n",
    "        self.generator_model = None\n",
    "        \n",
    "    def build_retrieval_index(self, documents):\n",
    "        \"\"\"\n",
    "        Build both BM25 and dense retrieval indices\n",
    "        \n",
    "        Args:\n",
    "            documents: List of document texts to index\n",
    "        \"\"\"\n",
    "        print(\"Building retrieval indices...\")\n",
    "        \n",
    "        from rank_bm25 import BM25Okapi\n",
    "        from nltk.tokenize import word_tokenize\n",
    "        # Store corpus\n",
    "        self.corpus = documents\n",
    "        \n",
    "        # Build BM25 index\n",
    "        tokenized_docs = [word_tokenize(doc.lower()) for doc in documents]\n",
    "        self.bm25 = BM25Okapi(tokenized_docs)\n",
    "        \n",
    "        # Build dense embeddings\n",
    "        self.corpus_embeddings = self.dense_encoder.encode(\n",
    "            documents, \n",
    "            convert_to_tensor=True,\n",
    "            show_progress_bar=True\n",
    "        )\n",
    "        \n",
    "        print(f\"Indexed {len(documents)} documents\")\n",
    "        \n",
    "    def load_generator(self, model_name=\"t5-small\"):\n",
    "        \"\"\"\n",
    "        Load the text generation model\n",
    "        \n",
    "        Args:\n",
    "            model_name: HuggingFace model name for generation\n",
    "        \"\"\"\n",
    "        from transformers import T5ForConditionalGeneration, T5TokenizerFast\n",
    "        print(f\"Loading generator: {model_name}\")\n",
    "        self.generator_tokenizer = T5TokenizerFast.from_pretrained(model_name)\n",
    "        self.generator_model = T5ForConditionalGeneration.from_pretrained(model_name)\n",
    "        print(\"Generator loaded successfully\")\n"
   ]
  },
  {
   "cell_type": "code",
   "execution_count": 21,
   "id": "d4cf4d5d",
   "metadata": {},
   "outputs": [
    {
     "name": "stdout",
     "output_type": "stream",
     "text": [
      "reached end of cell\n"
     ]
    }
   ],
   "source": [
    "# Add retrieval methods to the RAG class\n",
    "def add_retrieval_methods():\n",
    "    \"\"\"Add retrieval methods to the RAG class\"\"\"\n",
    "    \n",
    "    def retrieve_documents(self, query, k=5, method=\"hybrid\"):\n",
    "        \"\"\"\n",
    "        Retrieve relevant documents for a query\n",
    "        \n",
    "        Args:\n",
    "            query: Input question\n",
    "            k: Number of documents to retrieve\n",
    "            method: \"bm25\", \"dense\", or \"hybrid\"\n",
    "            \n",
    "        Returns:\n",
    "            List of retrieved document indices and texts\n",
    "        \"\"\"\n",
    "        if method == \"bm25\":\n",
    "            return self._bm25_retrieve(query, k)\n",
    "        elif method == \"dense\":\n",
    "            return self._dense_retrieve(query, k)\n",
    "        elif method == \"hybrid\":\n",
    "            return self._hybrid_retrieve(query, k)\n",
    "        else:\n",
    "            raise ValueError(\"Method must be 'bm25', 'dense', or 'hybrid'\")\n",
    "    \n",
    "    def _bm25_retrieve(self, query, k):\n",
    "        \"\"\"BM25 retrieval\"\"\"\n",
    "        import numpy as np\n",
    "        from nltk.tokenize import word_tokenize\n",
    "        query_tokens = word_tokenize(query.lower())\n",
    "        scores = self.bm25.get_scores(query_tokens)\n",
    "        top_indices = np.argsort(scores)[-k:][::-1]\n",
    "        return [(idx, self.corpus[idx], scores[idx]) for idx in top_indices]\n",
    "    \n",
    "    def _dense_retrieve(self, query, k):\n",
    "        \"\"\"Dense retrieval using sentence transformers\"\"\"\n",
    "        import torch\n",
    "        query_embedding = self.dense_encoder.encode([query], convert_to_tensor=True)\n",
    "        # Compute cosine similarity between query (D,) and corpus (N,D) via normalized dot product\n",
    "        q = torch.nn.functional.normalize(query_embedding.squeeze(0), dim=0)\n",
    "        C = torch.nn.functional.normalize(self.corpus_embeddings, dim=1)\n",
    "        sim = torch.matmul(C, q)  # (N,)\n",
    "        top_indices = torch.topk(sim, k).indices\n",
    "        return [(idx.item(), self.corpus[idx.item()], float(sim[idx])) for idx in top_indices]\n",
    "    \n",
    "    def _hybrid_retrieve(self, query, k):\n",
    "        \"\"\"Simple hybrid retrieval: combine BM25 and dense scores\"\"\"\n",
    "        # Get top candidates from both methods\n",
    "        bm25_results = self._bm25_retrieve(query, k*2)\n",
    "        dense_results = self._dense_retrieve(query, k*2)\n",
    "        \n",
    "        # Create score dictionary\n",
    "        scores = {}\n",
    "        for idx, text, score in bm25_results:\n",
    "            scores[idx] = scores.get(idx, 0) + score\n",
    "        for idx, text, score in dense_results:\n",
    "            scores[idx] = scores.get(idx, 0) + score\n",
    "            \n",
    "        # Sort by combined score and return top k\n",
    "        sorted_indices = sorted(scores.keys(), key=lambda x: scores[x], reverse=True)\n",
    "        return [(idx, self.corpus[idx], scores[idx]) for idx in sorted_indices[:k]]\n",
    "    \n",
    "    # Add methods to the class\n",
    "    RAG.retrieve_documents = retrieve_documents\n",
    "    RAG._bm25_retrieve = _bm25_retrieve\n",
    "    RAG._dense_retrieve = _dense_retrieve\n",
    "    RAG._hybrid_retrieve = _hybrid_retrieve\n",
    "\n",
    "# Execute the function to add methods to the class\n",
    "add_retrieval_methods()\n",
    "print(\"reached end of cell\")\n"
   ]
  },
  {
   "cell_type": "code",
   "execution_count": 27,
   "id": "ee306f5d-ae5a-45d2-8702-a213acd7718e",
   "metadata": {},
   "outputs": [
    {
     "name": "stdout",
     "output_type": "stream",
     "text": [
      "Building retrieval indices...\n"
     ]
    },
    {
     "name": "stderr",
     "output_type": "stream",
     "text": [
      "Batches: 100%|██████████| 47/47 [00:03<00:00, 11.79it/s]\n"
     ]
    },
    {
     "name": "stdout",
     "output_type": "stream",
     "text": [
      "Indexed 1500 documents\n",
      "\n",
      "Query: What are the symptoms of Diabetes insipidus nephrogenic mental retardation and intracerebral calcification?\n",
      "\n",
      "Top BM25 hits:\n",
      "1. [doc 464] score=31.7521  |  What are the treatments for Wolfram syndrome ? These resources address the diagnosis or management of Wolfram syndrome: - Gene Review: Gene Review: WFS1-Related Disorders - Genetic Testing Registry: Diabetes mellitus AND...\n",
      "2. [doc 104] score=30.5475  |  What are the treatments for Mabry syndrome ? These resources address the diagnosis or management of Mabry syndrome: - Genetic Testing Registry: Hyperphosphatasia with mental retardation syndrome - Genetic Testing Registr...\n",
      "3. [doc 1079] score=26.6279  |  What are the treatments for CASK-related intellectual disability ? These resources address the diagnosis or management of CASK-related intellectual disability: - Gene Review: Gene Review: CASK-Related Disorders - Genetic...\n",
      "\n",
      "Top Dense hits:\n",
      "1. [doc 1490] score=0.5145  |  What is (are) autosomal recessive spastic ataxia of Charlevoix-Saguenay ? Autosomal recessive spastic ataxia of Charlevoix-Saguenay, more commonly known as ARSACS, is a condition affecting muscle movement. People with AR...\n",
      "2. [doc 1030] score=0.5015  |  What is (are) Alpers-Huttenlocher syndrome ? Alpers-Huttenlocher syndrome is one of the most severe of a group of conditions called the POLG-related disorders. The conditions in this group feature a range of similar sign...\n",
      "3. [doc 665] score=0.4924  |  What is (are) combined malonic and methylmalonic aciduria ? Combined malonic and methylmalonic aciduria (CMAMMA) is a condition characterized by high levels of certain chemicals, known as malonic acid and methylmalonic a...\n",
      "\n",
      "Top Hybrid hits:\n",
      "1. [doc 464] score=31.7521  |  What are the treatments for Wolfram syndrome ? These resources address the diagnosis or management of Wolfram syndrome: - Gene Review: Gene Review: WFS1-Related Disorders - Genetic Testing Registry: Diabetes mellitus AND...\n",
      "2. [doc 104] score=30.5475  |  What are the treatments for Mabry syndrome ? These resources address the diagnosis or management of Mabry syndrome: - Genetic Testing Registry: Hyperphosphatasia with mental retardation syndrome - Genetic Testing Registr...\n",
      "3. [doc 1079] score=26.6279  |  What are the treatments for CASK-related intellectual disability ? These resources address the diagnosis or management of CASK-related intellectual disability: - Gene Review: Gene Review: CASK-Related Disorders - Genetic...\n",
      "Loading generator: t5-small\n",
      "Generator loaded successfully\n",
      "\n",
      "Generated answer (t5-small): Hyperphosphatasia with mental retardation syndrome 1 - Genetic Testing Registry: Hyperphosphatasia with mental retardation syndrome 2 - Genetic Testing Registry: Hyperphosphatasia with mental retardation syndrome 2 - Genetic Testing Registry: Hyperphosphatasia with mental retardation syndrome 2 - Genetic Testing Registry: Hyperphosphatasia with\n"
     ]
    }
   ],
   "source": [
    "# Demo: Run RAG end-to-end to show output\n",
    "def run_rag_demo():\n",
    "    # Ensure dependencies and the RAG class are available\n",
    "    import numpy as np, torch\n",
    "    from sentence_transformers import SentenceTransformer\n",
    "    from rank_bm25 import BM25Okapi\n",
    "    from transformers import T5ForConditionalGeneration, T5TokenizerFast\n",
    "    from nltk.tokenize import word_tokenize\n",
    "    if 'RAG' not in globals():\n",
    "        print('Please run the previous cell that defines the RAG class first.')\n",
    "        return\n",
    "\n",
    "    # 1) Prepare a small corpus from MedQuAD DataFrame (question + answer)\n",
    "    import nltk; nltk.download('punkt', quiet=True)\n",
    "    try:\n",
    "        _ = df\n",
    "    except NameError:\n",
    "        import os, pandas as pd\n",
    "        try:\n",
    "            medquad_parquet = MEDQUAD_PARQUET\n",
    "        except NameError:\n",
    "            medquad_parquet = './artifacts-medquad/medquad.parquet'\n",
    "        df = pd.read_parquet(medquad_parquet) if os.path.exists(medquad_parquet) else None\n",
    "\n",
    "    if df is None or len(df) == 0:\n",
    "        # Fallback tiny corpus if dataset not loaded\n",
    "        docs = [\n",
    "            \"Diabetes is a disease that occurs when your blood glucose is too high. Symptoms include increased thirst, frequent urination, extreme fatigue, and blurred vision.\",\n",
    "            \"Influenza (flu) is a contagious respiratory illness. Symptoms include fever, cough, sore throat, runny or stuffy nose, body aches, headaches, chills and fatigue.\",\n",
    "            \"Hypertension (high blood pressure) rarely has symptoms, but long-term it can lead to heart disease and stroke.\"\n",
    "        ]\n",
    "    else:\n",
    "        sample = df.head(1500)  # keep it small for a quick demo\n",
    "        docs = (sample['question'].astype(str) + ' ' + sample['answer'].astype(str)).tolist()\n",
    "\n",
    "    # 2) Build indices and run retrieval\n",
    "    rag = RAG()\n",
    "    rag.build_retrieval_index(docs)\n",
    "\n",
    "    query = 'What are the symptoms of Diabetes insipidus nephrogenic mental retardation and intracerebral calcification?'\n",
    "    print(f'\\nQuery: {query}')\n",
    "\n",
    "    bm25_hits = rag.retrieve_documents(query, k=3, method='bm25')\n",
    "    dense_hits = rag.retrieve_documents(query, k=3, method='dense')\n",
    "    hybrid_hits = rag.retrieve_documents(query, k=3, method='hybrid')\n",
    "\n",
    "    def show_hits(name, hits):\n",
    "        print(f'\\nTop {name} hits:')\n",
    "        for i, (idx, text, score) in enumerate(hits, 1):\n",
    "            preview = (text[:220] + '...') if len(text) > 220 else text\n",
    "            try:\n",
    "                s = f\"{float(score):.4f}\"\n",
    "            except Exception:\n",
    "                s = str(score)\n",
    "            print(f\"{i}. [doc {idx}] score={s}  |  {preview}\")\n",
    "\n",
    "    show_hits('BM25', bm25_hits)\n",
    "    show_hits('Dense', dense_hits)\n",
    "    show_hits('Hybrid', hybrid_hits)\n",
    "\n",
    "    # 3) Optional: Load generator and produce an answer from retrieved context\n",
    "    rag.load_generator('t5-small')\n",
    "    context = ' '.join([t for _, t, _ in hybrid_hits])[:1500]\n",
    "    inp = f'question: {query} context: {context}'\n",
    "    tok = rag.generator_tokenizer([inp], return_tensors='pt', padding=True, truncation=True)\n",
    "    out_ids = rag.generator_model.generate(**tok, max_new_tokens=64, do_sample=False)\n",
    "    ans = rag.generator_tokenizer.decode(out_ids[0], skip_special_tokens=True)\n",
    "    print('\\nGenerated answer (t5-small):', ans)\n",
    "\n",
    "# Execute demo\n",
    "run_rag_demo()\n"
   ]
  },
  {
   "cell_type": "code",
   "execution_count": null,
   "id": "9a33d675-35a2-40f0-b9bf-763f4a95135b",
   "metadata": {},
   "outputs": [],
   "source": []
  }
 ],
 "metadata": {
  "colab": {
   "provenance": []
  },
  "kernelspec": {
   "display_name": "Python (medquad_env)",
   "language": "python",
   "name": "medquad_env"
  },
  "language_info": {
   "codemirror_mode": {
    "name": "ipython",
    "version": 3
   },
   "file_extension": ".py",
   "mimetype": "text/x-python",
   "name": "python",
   "nbconvert_exporter": "python",
   "pygments_lexer": "ipython3",
   "version": "3.10.15"
  }
 },
 "nbformat": 4,
 "nbformat_minor": 5
}
