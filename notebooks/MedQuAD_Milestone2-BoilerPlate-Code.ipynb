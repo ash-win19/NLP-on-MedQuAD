{
 "cells": [
  {
   "cell_type": "markdown",
   "id": "3ebfc330",
   "metadata": {
    "id": "3ebfc330"
   },
   "source": [
    "# MedQuAD — Milestone 2 Progress Notebook (End-to-End)\n",
    "This notebook parses MedQuAD XML, performs EDA, creates leak-safe splits, and provides runnable baselines for:\n",
    "1) **Abstractive Answer Generation** (T5)  \n",
    "2) **Paraphrase Detection** (Siamese encoder)  \n",
    "3) **Retrieval-Augmented QA (RAG)** with BM25 + FAISS + Generator\n",
    "\n",
    "**Usage**\n",
    "1. Clone the dataset: `git clone https://github.com/abachaa/MedQuAD`\n",
    "2. Set `MEDQUAD_ROOT` below to that path.\n",
    "3. Run cells in order. Heavy training cells are commented for quick tests; uncomment on GPU."
   ]
  },
  {
   "cell_type": "code",
   "execution_count": 5,
   "id": "7ec55e09",
   "metadata": {
    "id": "7ec55e09"
   },
   "outputs": [],
   "source": [
    "# Optional: install dependencies in a fresh environment\n",
    "# !pip install -q lxml pandas scikit-learn sentence-transformers transformers datasets evaluate rank-bm25 faiss-cpu nltk matplotlib seaborn rouge-score\n",
    "\n",
    "import os, re, glob, warnings\n",
    "from urllib.parse import urlparse\n",
    "import xml.etree.ElementTree as ET\n",
    "import pandas as pd\n",
    "warnings.filterwarnings(\"ignore\")\n",
    "\n",
    "# 👉 EDIT THIS PATH to your local MedQuAD clone (e.g., '/content/MedQuAD' in Colab)\n",
    "MEDQUAD_ROOT = \"/Users/ashwinshanmugam/Documents/UIUC/University Courses/Fall 2025/IS 567 Text Mining/Project/NLP-on-MedQuAD/data\"\n",
    "OUT_DIR = \"./artifacts-medquad\"; os.makedirs(OUT_DIR, exist_ok=True)\n",
    "MEDQUAD_PARQUET = os.path.join(OUT_DIR, \"medquad.parquet\")"
   ]
  },
  {
   "cell_type": "markdown",
   "id": "1c90f674",
   "metadata": {
    "id": "1c90f674"
   },
   "source": [
    "## 1) Ingest MedQuAD XML → tidy DataFrame"
   ]
  },
  {
   "cell_type": "code",
   "execution_count": 6,
   "id": "90184d90",
   "metadata": {
    "id": "90184d90",
    "outputId": "b231de61-f872-4d97-bf1b-cea77964cdee"
   },
   "outputs": [
    {
     "name": "stdout",
     "output_type": "stream",
     "text": [
      "WARNING: Forcing re-parsing of MedQuAD XML to apply exclusion filters.\n",
      "The old medquad.parquet file will be overwritten with the filtered data.\n",
      "\n",
      "--- NEW DATASET SUMMARY ---\n",
      "Total Curated QA Pairs Stored in df: 16407\n"
     ]
    },
    {
     "data": {
      "text/html": [
       "<div>\n",
       "<style scoped>\n",
       "    .dataframe tbody tr th:only-of-type {\n",
       "        vertical-align: middle;\n",
       "    }\n",
       "\n",
       "    .dataframe tbody tr th {\n",
       "        vertical-align: top;\n",
       "    }\n",
       "\n",
       "    .dataframe thead th {\n",
       "        text-align: right;\n",
       "    }\n",
       "</style>\n",
       "<table border=\"1\" class=\"dataframe\">\n",
       "  <thead>\n",
       "    <tr style=\"text-align: right;\">\n",
       "      <th></th>\n",
       "      <th>doc_id</th>\n",
       "      <th>source</th>\n",
       "      <th>url</th>\n",
       "      <th>host</th>\n",
       "      <th>focus</th>\n",
       "      <th>focus_cui</th>\n",
       "      <th>focus_sem_type</th>\n",
       "      <th>focus_sem_group</th>\n",
       "      <th>pid</th>\n",
       "      <th>qid</th>\n",
       "      <th>qtype</th>\n",
       "      <th>question</th>\n",
       "      <th>answer</th>\n",
       "      <th>xml_path</th>\n",
       "      <th>q_len</th>\n",
       "      <th>a_len</th>\n",
       "    </tr>\n",
       "  </thead>\n",
       "  <tbody>\n",
       "    <tr>\n",
       "      <th>0</th>\n",
       "      <td>0000559</td>\n",
       "      <td>GHR</td>\n",
       "      <td>https://ghr.nlm.nih.gov/condition/keratoderma-...</td>\n",
       "      <td>ghr.nlm.nih.gov</td>\n",
       "      <td>keratoderma with woolly hair</td>\n",
       "      <td>C0343073</td>\n",
       "      <td>T047</td>\n",
       "      <td>Disorders</td>\n",
       "      <td>1</td>\n",
       "      <td>0000559-1</td>\n",
       "      <td>information</td>\n",
       "      <td>What is (are) keratoderma with woolly hair ?</td>\n",
       "      <td>Keratoderma with woolly hair is a group of rel...</td>\n",
       "      <td>/Users/ashwinshanmugam/Documents/UIUC/Universi...</td>\n",
       "      <td>8</td>\n",
       "      <td>290</td>\n",
       "    </tr>\n",
       "    <tr>\n",
       "      <th>1</th>\n",
       "      <td>0000559</td>\n",
       "      <td>GHR</td>\n",
       "      <td>https://ghr.nlm.nih.gov/condition/keratoderma-...</td>\n",
       "      <td>ghr.nlm.nih.gov</td>\n",
       "      <td>keratoderma with woolly hair</td>\n",
       "      <td>C0343073</td>\n",
       "      <td>T047</td>\n",
       "      <td>Disorders</td>\n",
       "      <td>2</td>\n",
       "      <td>0000559-2</td>\n",
       "      <td>frequency</td>\n",
       "      <td>How many people are affected by keratoderma wi...</td>\n",
       "      <td>Keratoderma with woolly hair is rare; its prev...</td>\n",
       "      <td>/Users/ashwinshanmugam/Documents/UIUC/Universi...</td>\n",
       "      <td>11</td>\n",
       "      <td>80</td>\n",
       "    </tr>\n",
       "    <tr>\n",
       "      <th>2</th>\n",
       "      <td>0000559</td>\n",
       "      <td>GHR</td>\n",
       "      <td>https://ghr.nlm.nih.gov/condition/keratoderma-...</td>\n",
       "      <td>ghr.nlm.nih.gov</td>\n",
       "      <td>keratoderma with woolly hair</td>\n",
       "      <td>C0343073</td>\n",
       "      <td>T047</td>\n",
       "      <td>Disorders</td>\n",
       "      <td>3</td>\n",
       "      <td>0000559-3</td>\n",
       "      <td>genetic changes</td>\n",
       "      <td>What are the genetic changes related to kerato...</td>\n",
       "      <td>Mutations in the JUP, DSP, DSC2, and KANK2 gen...</td>\n",
       "      <td>/Users/ashwinshanmugam/Documents/UIUC/Universi...</td>\n",
       "      <td>12</td>\n",
       "      <td>284</td>\n",
       "    </tr>\n",
       "  </tbody>\n",
       "</table>\n",
       "</div>"
      ],
      "text/plain": [
       "    doc_id source                                                url  \\\n",
       "0  0000559    GHR  https://ghr.nlm.nih.gov/condition/keratoderma-...   \n",
       "1  0000559    GHR  https://ghr.nlm.nih.gov/condition/keratoderma-...   \n",
       "2  0000559    GHR  https://ghr.nlm.nih.gov/condition/keratoderma-...   \n",
       "\n",
       "              host                         focus focus_cui focus_sem_type  \\\n",
       "0  ghr.nlm.nih.gov  keratoderma with woolly hair  C0343073           T047   \n",
       "1  ghr.nlm.nih.gov  keratoderma with woolly hair  C0343073           T047   \n",
       "2  ghr.nlm.nih.gov  keratoderma with woolly hair  C0343073           T047   \n",
       "\n",
       "  focus_sem_group pid        qid            qtype  \\\n",
       "0       Disorders   1  0000559-1      information   \n",
       "1       Disorders   2  0000559-2        frequency   \n",
       "2       Disorders   3  0000559-3  genetic changes   \n",
       "\n",
       "                                            question  \\\n",
       "0       What is (are) keratoderma with woolly hair ?   \n",
       "1  How many people are affected by keratoderma wi...   \n",
       "2  What are the genetic changes related to kerato...   \n",
       "\n",
       "                                              answer  \\\n",
       "0  Keratoderma with woolly hair is a group of rel...   \n",
       "1  Keratoderma with woolly hair is rare; its prev...   \n",
       "2  Mutations in the JUP, DSP, DSC2, and KANK2 gen...   \n",
       "\n",
       "                                            xml_path  q_len  a_len  \n",
       "0  /Users/ashwinshanmugam/Documents/UIUC/Universi...      8    290  \n",
       "1  /Users/ashwinshanmugam/Documents/UIUC/Universi...     11     80  \n",
       "2  /Users/ashwinshanmugam/Documents/UIUC/Universi...     12    284  "
      ]
     },
     "execution_count": 6,
     "metadata": {},
     "output_type": "execute_result"
    }
   ],
   "source": [
    "def parse_medquad_repo(repo_root):\n",
    "    # These are the directory names corresponding to the non-curated subsets.\n",
    "    EXCLUDE_DIRS = [\n",
    "        \"10_MPlus_ADAM_QA\",          # A.D.A.M. Medical Encyclopedia\n",
    "        \"11_MPlusDrugs_QA\",          # MedlinePlus Drug information\n",
    "        \"12_MPlusHerbsSupplements_QA\" # MedlinePlus Herbal medicine and supplement information\n",
    "    ]\n",
    "    rows = []\n",
    "\n",
    "    # Iterate through all XML files recursively\n",
    "    for xml_path in glob.glob(os.path.join(repo_root, \"**\", \"*.xml\"), recursive=True):\n",
    "\n",
    "        # --- NEW CODE: Check if the path contains an excluded directory name ---\n",
    "        if any(f\"/{d}/\" in xml_path for d in EXCLUDE_DIRS):\n",
    "             continue # Skip this XML file and move to the next one\n",
    "        # --- END NEW CODE ---\n",
    "\n",
    "        try:\n",
    "            tree = ET.parse(xml_path)\n",
    "        except Exception as e:\n",
    "            print(\"Parse error:\", xml_path, e); continue\n",
    "\n",
    "        root = tree.getroot()\n",
    "        doc_id = root.attrib.get(\"id\")\n",
    "        source = root.attrib.get(\"source\")\n",
    "        url = root.attrib.get(\"url\"); host = urlparse(url).netloc if url else None\n",
    "        focus = (root.findtext(\"./Focus\") or \"\").strip()\n",
    "        cui = root.findtext(\"./FocusAnnotations/UMLS/CUIs/CUI\")\n",
    "        sem_type = root.findtext(\"./FocusAnnotations/UMLS/SemanticTypes/SemanticType\")\n",
    "        sem_group = root.findtext(\"./FocusAnnotations/UMLS/SemanticGroup\")\n",
    "\n",
    "        for qa in root.findall(\"./QAPairs/QAPair\"):\n",
    "            pid = qa.attrib.get(\"pid\")\n",
    "            q = qa.find(\"./Question\"); a = qa.find(\"./Answer\")\n",
    "            qid = q.attrib.get(\"qid\") if q is not None else None\n",
    "            qtype = q.attrib.get(\"qtype\") if q is not None else None\n",
    "            question = (q.text or \"\").strip() if q is not None else \"\"\n",
    "            answer = (a.text or \"\").strip() if a is not None else \"\"\n",
    "\n",
    "            # Normalization (Whitespace cleanup)\n",
    "            question = re.sub(r\"\\s+\", \" \", question)\n",
    "            answer = re.sub(r\"\\s+\", \" \", answer)\n",
    "\n",
    "            # --- FINAL FILTER: Skip if answer is confirmed blank (for safety) ---\n",
    "            if not answer.strip():\n",
    "                 continue\n",
    "\n",
    "            rows.append(dict(doc_id=doc_id, source=source, url=url, host=host,\n",
    "                             focus=focus, focus_cui=cui, focus_sem_type=sem_type, focus_sem_group=sem_group,\n",
    "                             pid=pid, qid=qid, qtype=qtype, question=question, answer=answer, xml_path=xml_path))\n",
    "\n",
    "    return pd.DataFrame(rows)\n",
    "\n",
    "# First, ensure the directory exists for saving the new file\n",
    "os.makedirs(OUT_DIR, exist_ok=True)\n",
    "\n",
    "\n",
    "print(\"WARNING: Forcing re-parsing of MedQuAD XML to apply exclusion filters.\")\n",
    "print(\"The old medquad.parquet file will be overwritten with the filtered data.\")\n",
    "\n",
    "# 1. CALL THE FUNCTION, APPLYING THE NEW FILTERS\n",
    "df = parse_medquad_repo(MEDQUAD_ROOT)\n",
    "\n",
    "# 2. Add Length Columns for final filtering and EDA (This prevents the old KeyError)\n",
    "df[\"q_len\"] = df[\"question\"].str.split().str.len()\n",
    "df[\"a_len\"] = df[\"answer\"].str.split().str.len()\n",
    "\n",
    "# 3. Apply the final content filter (optional but safe)\n",
    "df = df[df['a_len'] > 0].copy()\n",
    "\n",
    "# 4. OVERWRITE AND SAVE THE NEW, CLEANED DATASET\n",
    "df.to_parquet(MEDQUAD_PARQUET)\n",
    "\n",
    "print(\"\\n--- NEW DATASET SUMMARY ---\")\n",
    "print(f\"Total Curated QA Pairs Stored in df: {len(df)}\")\n",
    "df.head(3)"
   ]
  },
  {
   "cell_type": "markdown",
   "id": "2a1e865a",
   "metadata": {
    "id": "2a1e865a"
   },
   "source": [
    "## 2) Quick EDA"
   ]
  },
  {
   "cell_type": "code",
   "execution_count": 8,
   "id": "6359e117",
   "metadata": {
    "id": "6359e117",
    "outputId": "122840c8-0896-40aa-8cba-fdb832a9551c"
   },
   "outputs": [
    {
     "name": "stdout",
     "output_type": "stream",
     "text": [
      "Top sources:\n",
      " source             host                     \n",
      "GHR                ghr.nlm.nih.gov              5430\n",
      "GARD               rarediseases.info.nih.gov    5389\n",
      "NIDDK              www.niddk.nih.gov            1192\n",
      "NINDS              www.ninds.nih.gov            1088\n",
      "MPlusHealthTopics  www.nlm.nih.gov               981\n",
      "NIHSeniorHealth    nihseniorhealth.gov           769\n",
      "CancerGov          www.cancer.gov                729\n",
      "NHLBI              www.nhlbi.nih.gov             559\n",
      "CDC                www.cdc.gov                   270\n",
      "Name: count, dtype: int64\n",
      "\n",
      "Top question types:\n",
      " qtype\n",
      "information        4535\n",
      "symptoms           2748\n",
      "treatment          2442\n",
      "inheritance        1446\n",
      "frequency          1120\n",
      "genetic changes    1087\n",
      "causes              727\n",
      "exams and tests     653\n",
      "research            395\n",
      "outlook             361\n",
      "susceptibility      324\n",
      "considerations      235\n",
      "prevention          210\n",
      "stages               77\n",
      "complications        46\n",
      "Name: count, dtype: int64\n"
     ]
    },
    {
     "data": {
      "image/png": "[encoded data removed]",
      "text/plain": [
       "<Figure size 640x480 with 1 Axes>"
      ]
     },
     "metadata": {},
     "output_type": "display_data"
    }
   ],
   "source": [
    "import seaborn as sns, matplotlib.pyplot as plt\n",
    "sns.set_theme()\n",
    "\n",
    "print(\"Top sources:\\n\", df[[\"source\",\"host\"]].value_counts().head(10))\n",
    "print(\"\\nTop question types:\\n\", df[\"qtype\"].value_counts().head(15))\n",
    "\n",
    "df[\"q_len\"] = df[\"question\"].str.split().str.len()\n",
    "df[\"a_len\"] = df[\"answer\"].str.split().str.len()\n",
    "\n",
    "fig, ax = plt.subplots()\n",
    "sns.kdeplot(df[\"q_len\"].clip(0,300), label=\"question\", ax=ax)\n",
    "sns.kdeplot(df[\"a_len\"].clip(0,600), label=\"answer\", ax=ax)\n",
    "ax.set_title(\"Token-length distributions\")\n",
    "ax.legend(); plt.show()"
   ]
  },
  {
   "cell_type": "markdown",
   "id": "e67f02ad",
   "metadata": {
    "id": "e67f02ad"
   },
   "source": [
    "## 3) Leak-safe train/dev/test splits (grouped by CUI)"
   ]
  },
  {
   "cell_type": "code",
   "execution_count": 9,
   "id": "88936232",
   "metadata": {
    "id": "88936232",
    "outputId": "69c5ec68-20ca-4331-dd14-5ec5a7983fa3"
   },
   "outputs": [
    {
     "data": {
      "text/plain": [
       "(12850, 1739, 1818)"
      ]
     },
     "execution_count": 9,
     "metadata": {},
     "output_type": "execute_result"
    }
   ],
   "source": [
    "from sklearn.model_selection import GroupShuffleSplit\n",
    "\n",
    "def make_splits(df, group_col=\"focus_cui\", seed=42):\n",
    "    df = df.copy()\n",
    "    groups = df[group_col].fillna(df[\"focus\"]).fillna(\"NOFOCUS\")\n",
    "    gss = GroupShuffleSplit(n_splits=1, train_size=0.8, random_state=seed)\n",
    "    train_idx, temp_idx = next(gss.split(df, groups=groups))\n",
    "    train = df.iloc[train_idx]; temp = df.iloc[temp_idx]\n",
    "    gss2 = GroupShuffleSplit(n_splits=1, train_size=0.5, random_state=seed)\n",
    "    dev_idx, test_idx = next(gss2.split(temp, groups=temp[group_col].fillna(temp[\"focus\"]).fillna(\"NOFOCUS\")))\n",
    "    dev = temp.iloc[dev_idx]; test = temp.iloc[test_idx]\n",
    "    return train, dev, test\n",
    "\n",
    "train_df, dev_df, test_df = make_splits(df)\n",
    "len(train_df), len(dev_df), len(test_df)"
   ]
  },
  {
   "cell_type": "code",
   "execution_count": null,
   "id": "a62e3649",
   "metadata": {
    "id": "a62e3649",
    "outputId": "0c18ae52-ebb4-45c9-fc0c-1d69510c4755"
   },
   "outputs": [
    {
     "name": "stdout",
     "output_type": "stream",
     "text": [
      "Total QA Pairs Parsed: 16407\n",
      "Rows with Blank Question/Answer: 0\n",
      "\n",
      "Sample of Cleaned Answer Lengths (words):\n",
      "count    16407.000000\n",
      "mean       201.354361\n",
      "std        248.480189\n",
      "min          1.000000\n",
      "25%         71.000000\n",
      "50%        138.000000\n",
      "75%        252.000000\n",
      "max       4281.000000\n",
      "Name: a_len, dtype: float64\n",
      "\n",
      "Number of QA Pairs with 1-3 Word Answers: 1\n",
      "Example of a very short answer: [['How to prevent Acanthamoeba - Granulomatous Amebic Encephalitis (GAE); Keratitis ?'\n",
      "  'Topics']]\n"
     ]
    }
   ],
   "source": [
    "# Assuming you have run the XML parsing (Cell 4) to create 'df'\n",
    "\n",
    "# Check the number of rows that had blank answers *before* dropping them:\n",
    "total_rows = len(df)\n",
    "valid_rows = len(df.dropna(subset=['question', 'answer']))\n",
    "rows_with_missing_data = total_rows - valid_rows\n",
    "\n",
    "print(f\"Total QA Pairs Parsed: {total_rows}\")\n",
    "print(f\"Rows with Blank Question/Answer: {rows_with_missing_data}\")\n",
    "\n",
    "# Display a sample of the cleaned-up answers to check for quality\n",
    "print(\"\\nSample of Cleaned Answer Lengths (words):\")\n",
    "print(df['a_len'].describe())\n",
    "\n",
    "# Check for rows where the answer might be very short (e.g., just punctuation)\n",
    "short_answers = df[df['a_len'].between(1, 3)]\n",
    "print(f\"\\nNumber of QA Pairs with 1-3 Word Answers: {len(short_answers)}\")\n",
    "if not short_answers.empty:\n",
    "    print(\"Example of a very short answer:\", short_answers[['question', 'answer']].head(1).values)"
   ]
  },
  {
   "cell_type": "markdown",
   "id": "6d42c378",
   "metadata": {
    "id": "6d42c378"
   },
   "source": [
    "## 4) Task 1 — Abstractive Answer Generation (T5-small baseline)"
   ]
  },
  {
   "cell_type": "code",
   "execution_count": null,
   "id": "9c1c5a72",
   "metadata": {
    "colab": {
     "referenced_widgets": [
      "9d68f0c087734204864370691c68df71",
      "16499ac23d68413b97d87ee4863942d4",
      "4e140a8f1e184bc38567377a7ac2ff3d"
     ]
    },
    "id": "9c1c5a72",
    "outputId": "16cb1ee5-1275-496b-aab0-1260f3c90440"
   },
   "outputs": [
    {
     "data": {
      "application/vnd.jupyter.widget-view+json": {
       "model_id": "9d68f0c087734204864370691c68df71",
       "version_major": 2,
       "version_minor": 0
      },
      "text/plain": [
       "Map:   0%|          | 0/12850 [00:00<?, ? examples/s]"
      ]
     },
     "metadata": {},
     "output_type": "display_data"
    },
    {
     "data": {
      "application/vnd.jupyter.widget-view+json": {
       "model_id": "16499ac23d68413b97d87ee4863942d4",
       "version_major": 2,
       "version_minor": 0
      },
      "text/plain": [
       "Map:   0%|          | 0/1739 [00:00<?, ? examples/s]"
      ]
     },
     "metadata": {},
     "output_type": "display_data"
    },
    {
     "data": {
      "application/vnd.jupyter.widget-view+json": {
       "model_id": "4e140a8f1e184bc38567377a7ac2ff3d",
       "version_major": 2,
       "version_minor": 0
      },
      "text/plain": [
       "Map:   0%|          | 0/1818 [00:00<?, ? examples/s]"
      ]
     },
     "metadata": {},
     "output_type": "display_data"
    }
   ],
   "source": [
    "from datasets import Dataset, DatasetDict\n",
    "from transformers import T5ForConditionalGeneration, T5TokenizerFast, DataCollatorForSeq2Seq, Trainer, TrainingArguments\n",
    "from evaluate import load as load_metric\n",
    "import numpy as np, torch\n",
    "\n",
    "def build_hf_dataset(train_df, dev_df, test_df, max_input=512, max_target=512):\n",
    "    def to_ds(frame):\n",
    "        sub = frame[[\"question\",\"answer\"]].dropna().rename(columns={\"question\":\"input_text\",\"answer\":\"target_text\"})\n",
    "        return Dataset.from_pandas(sub)\n",
    "    raw = DatasetDict(train=to_ds(train_df), validation=to_ds(dev_df), test=to_ds(test_df))\n",
    "    tok = T5TokenizerFast.from_pretrained(\"t5-small\")\n",
    "    def preprocess(ex):\n",
    "        ex[\"input_ids\"] = tok(\"question: \" + ex[\"input_text\"], truncation=True, max_length=max_input).input_ids\n",
    "        ex[\"labels\"]    = tok(ex[\"target_text\"], truncation=True, max_length=max_target).input_ids\n",
    "        return ex\n",
    "    tokenized = raw.map(preprocess, remove_columns=raw[\"train\"].column_names)\n",
    "    return tokenized, tok\n",
    "\n",
    "tokenized, tok = build_hf_dataset(train_df, dev_df, test_df)\n",
    "\n",
    "def train_t5(tokenized, tok, out_dir=\"./t5-medquad\"):\n",
    "    model = T5ForConditionalGeneration.from_pretrained(\"t5-small\")\n",
    "    collator = DataCollatorForSeq2Seq(tok, model=model)\n",
    "    args = TrainingArguments(\n",
    "        output_dir=out_dir, per_device_train_batch_size=2, per_device_eval_batch_size=2,\n",
    "        learning_rate=3e-4, num_train_epochs=5, fp16=False, eval_strategy=\"epoch\",\n",
    "        save_strategy=\"epoch\", logging_steps=50, report_to=\"none\"\n",
    "    )\n",
    "    trainer = Trainer(model=model, args=args, data_collator=collator,\n",
    "                      train_dataset=tokenized[\"train\"], eval_dataset=tokenized[\"validation\"])\n",
    "    trainer.train()\n",
    "    return trainer\n"
   ]
  },
  {
   "cell_type": "code",
   "execution_count": null,
   "id": "faa898e3",
   "metadata": {
    "id": "faa898e3"
   },
   "outputs": [],
   "source": [
    "# Clear Memory Cache\n",
    "torch.mps.empty_cache()"
   ]
  },
  {
   "cell_type": "code",
   "execution_count": null,
   "id": "74943817",
   "metadata": {
    "id": "74943817",
    "outputId": "939d1e28-dfe6-4045-c55f-befbb8f4b6ea"
   },
   "outputs": [
    {
     "data": {
      "text/html": [
       "\n",
       "    <div>\n",
       "      \n",
       "      <progress value='32125' max='32125' style='width:300px; height:20px; vertical-align: middle;'></progress>\n",
       "      [32125/32125 2:30:50, Epoch 5/5]\n",
       "    </div>\n",
       "    <table border=\"1\" class=\"dataframe\">\n",
       "  <thead>\n",
       " <tr style=\"text-align: left;\">\n",
       "      <th>Epoch</th>\n",
       "      <th>Training Loss</th>\n",
       "      <th>Validation Loss</th>\n",
       "    </tr>\n",
       "  </thead>\n",
       "  <tbody>\n",
       "    <tr>\n",
       "      <td>1</td>\n",
       "      <td>2.337900</td>\n",
       "      <td>2.155518</td>\n",
       "    </tr>\n",
       "    <tr>\n",
       "      <td>2</td>\n",
       "      <td>2.184300</td>\n",
       "      <td>2.031071</td>\n",
       "    </tr>\n",
       "    <tr>\n",
       "      <td>3</td>\n",
       "      <td>2.046900</td>\n",
       "      <td>1.971100</td>\n",
       "    </tr>\n",
       "    <tr>\n",
       "      <td>4</td>\n",
       "      <td>1.822500</td>\n",
       "      <td>1.938025</td>\n",
       "    </tr>\n",
       "    <tr>\n",
       "      <td>5</td>\n",
       "      <td>1.786200</td>\n",
       "      <td>1.926317</td>\n",
       "    </tr>\n",
       "  </tbody>\n",
       "</table><p>"
      ],
      "text/plain": [
       "<IPython.core.display.HTML object>"
      ]
     },
     "metadata": {},
     "output_type": "display_data"
    }
   ],
   "source": [
    "trainer = train_t5(tokenized, tok)   # ← Uncomment to train\n",
    "trainer.save_model(\"./t5-medquad\")"
   ]
  },
  {
   "cell_type": "code",
   "execution_count": null,
   "id": "e3d35eb8",
   "metadata": {
    "id": "e3d35eb8"
   },
   "outputs": [],
   "source": [
    "def eval_generation(model_dir, tokenized, tok):\n",
    "    # This function is assumed to be run after the model has been trained and saved to model_dir\n",
    "    import torch, numpy as np\n",
    "    from evaluate import load as load_metric\n",
    "    from transformers import T5ForConditionalGeneration # Note: Use AutoModelForSeq2SeqLM if using BioBART\n",
    "\n",
    "    rouge = load_metric(\"rouge\")\n",
    "    bertscore = load_metric(\"bertscore\")\n",
    "\n",
    "    # Load the model and ensure it uses the M4 GPU\n",
    "    model = T5ForConditionalGeneration.from_pretrained(model_dir)\n",
    "    DEVICE = torch.device(\"mps\" if torch.backends.mps.is_available() else \"cpu\")\n",
    "    model.to(DEVICE)\n",
    "\n",
    "    # Select a subset of the test data (e.g., 256 examples)\n",
    "    test = tokenized[\"test\"].select(range(min(256, len(tokenized[\"test\"]))))\n",
    "\n",
    "    # --- Generation Logic (Assumed Correct and Working) ---\n",
    "    input_ids_list = test[\"input_ids\"]\n",
    "    padded_inputs = tok.pad(\n",
    "        {'input_ids': input_ids_list},\n",
    "        return_tensors=\"pt\"\n",
    "    ).input_ids.to(DEVICE)\n",
    "\n",
    "    preds = model.generate(padded_inputs, max_new_tokens=256)\n",
    "\n",
    "    pred_text = tok.batch_decode(preds, skip_special_tokens=True)\n",
    "    ref_text  = tok.batch_decode(test[\"labels\"], skip_special_tokens=True)\n",
    "\n",
    "    # --- Metrics Calculation ---\n",
    "    r = rouge.compute(predictions=pred_text, references=ref_text, use_stemmer=True)\n",
    "    b = bertscore.compute(predictions=pred_text, references=ref_text, lang=\"en\")\n",
    "\n",
    "    # FINAL FIX: Access the ROUGE-L score directly as the key's value.\n",
    "    print(\"ROUGE-L:\", r[\"rougeL\"], \" BERTScore(F1):\", float(np.mean(b[\"f1\"])))"
   ]
  },
  {
   "cell_type": "code",
   "execution_count": null,
   "id": "f289cd50-a072-4dda-9924-389043271e0f",
   "metadata": {
    "id": "f289cd50-a072-4dda-9924-389043271e0f",
    "outputId": "928dcfe4-8ab0-411a-cab3-18031ebb9121"
   },
   "outputs": [
    {
     "name": "stderr",
     "output_type": "stream",
     "text": [
      "Some weights of RobertaModel were not initialized from the model checkpoint at roberta-large and are newly initialized: ['pooler.dense.bias', 'pooler.dense.weight']\n",
      "You should probably TRAIN this model on a down-stream task to be able to use it for predictions and inference.\n"
     ]
    },
    {
     "name": "stdout",
     "output_type": "stream",
     "text": [
      "ROUGE-L: 0.4064322101893944  BERTScore(F1): 0.884045472368598\n"
     ]
    }
   ],
   "source": [
    "# Assuming your trained model was saved to the T5 folder as planned\n",
    "# NOTE: If you trained BioBART, you must change the directory name.\n",
    "\n",
    "eval_generation(\n",
    "    model_dir=\"./t5-medquad\",     # The directory where trainer.save_model() stored the weights\n",
    "    tokenized=tokenized,          # The DatasetDict containing the 'test' set\n",
    "    tok=tok                       # The T5TokenizerFast object\n",
    ")"
   ]
  },
  {
   "cell_type": "code",
   "execution_count": null,
   "id": "efbb07bb-e9ac-4b3c-b326-5975e8faaee9",
   "metadata": {
    "id": "efbb07bb-e9ac-4b3c-b326-5975e8faaee9",
    "outputId": "0133e334-3f17-4cfb-abf6-6e6070ad8422"
   },
   "outputs": [
    {
     "name": "stdout",
     "output_type": "stream",
     "text": [
      "Qualitative Results (Top 10 Examples):\n",
      "\n"
     ]
    },
    {
     "data": {
      "text/html": [
       "<div>\n",
       "<style scoped>\n",
       "    .dataframe tbody tr th:only-of-type {\n",
       "        vertical-align: middle;\n",
       "    }\n",
       "\n",
       "    .dataframe tbody tr th {\n",
       "        vertical-align: top;\n",
       "    }\n",
       "\n",
       "    .dataframe thead th {\n",
       "        text-align: right;\n",
       "    }\n",
       "</style>\n",
       "<table border=\"1\" class=\"dataframe\">\n",
       "  <thead>\n",
       "    <tr style=\"text-align: right;\">\n",
       "      <th></th>\n",
       "      <th>Question</th>\n",
       "      <th>Candidate_Answer</th>\n",
       "      <th>Reference_Answer</th>\n",
       "    </tr>\n",
       "  </thead>\n",
       "  <tbody>\n",
       "    <tr>\n",
       "      <th>0</th>\n",
       "      <td>What is (are) keratoderma with woolly hair?</td>\n",
       "      <td>Keratoderma with woolly hair is a skin conditi...</td>\n",
       "      <td>Keratoderma with woolly hair is a group of rel...</td>\n",
       "    </tr>\n",
       "    <tr>\n",
       "      <th>1</th>\n",
       "      <td>How many people are affected by keratoderma wi...</td>\n",
       "      <td>Keratoderma with woolly hair is a rare conditi...</td>\n",
       "      <td>Keratoderma with woolly hair is rare; its prev...</td>\n",
       "    </tr>\n",
       "    <tr>\n",
       "      <th>2</th>\n",
       "      <td>What are the genetic changes related to kerato...</td>\n",
       "      <td>Keratoderma with woolly hair is caused by muta...</td>\n",
       "      <td>Mutations in the JUP, DSP, DSC2, and KANK2 gen...</td>\n",
       "    </tr>\n",
       "    <tr>\n",
       "      <th>3</th>\n",
       "      <td>Is keratoderma with woolly hair inherited?</td>\n",
       "      <td>This condition is inherited in an autosomal re...</td>\n",
       "      <td>Most cases of keratoderma with woolly hair hav...</td>\n",
       "    </tr>\n",
       "    <tr>\n",
       "      <th>4</th>\n",
       "      <td>What are the treatments for keratoderma with w...</td>\n",
       "      <td>These resources address the diagnosis or manag...</td>\n",
       "      <td>These resources address the diagnosis or manag...</td>\n",
       "    </tr>\n",
       "    <tr>\n",
       "      <th>5</th>\n",
       "      <td>What is (are) trisomy 18?</td>\n",
       "      <td>Trisomy 18 is an inherited disorder that affec...</td>\n",
       "      <td>Trisomy 18, also called Edwards syndrome, is a...</td>\n",
       "    </tr>\n",
       "    <tr>\n",
       "      <th>6</th>\n",
       "      <td>How many people are affected by trisomy 18?</td>\n",
       "      <td>Trisomy 18 is a rare disorder; its prevalence ...</td>\n",
       "      <td>Trisomy 18 occurs in about 1 in 5,000 live-bor...</td>\n",
       "    </tr>\n",
       "    <tr>\n",
       "      <th>7</th>\n",
       "      <td>What are the genetic changes related to trisom...</td>\n",
       "      <td>Trisomy 18 is caused by mutations in the COL1A...</td>\n",
       "      <td>Most cases of trisomy 18 result from having th...</td>\n",
       "    </tr>\n",
       "    <tr>\n",
       "      <th>8</th>\n",
       "      <td>Is trisomy 18 inherited?</td>\n",
       "      <td>This condition is inherited in an autosomal re...</td>\n",
       "      <td>Most cases of trisomy 18 are not inherited, bu...</td>\n",
       "    </tr>\n",
       "    <tr>\n",
       "      <th>9</th>\n",
       "      <td>What are the treatments for trisomy 18?</td>\n",
       "      <td>These resources address the diagnosis or manag...</td>\n",
       "      <td>These resources address the diagnosis or manag...</td>\n",
       "    </tr>\n",
       "  </tbody>\n",
       "</table>\n",
       "</div>"
      ],
      "text/plain": [
       "                                            Question  \\\n",
       "0        What is (are) keratoderma with woolly hair?   \n",
       "1  How many people are affected by keratoderma wi...   \n",
       "2  What are the genetic changes related to kerato...   \n",
       "3         Is keratoderma with woolly hair inherited?   \n",
       "4  What are the treatments for keratoderma with w...   \n",
       "5                          What is (are) trisomy 18?   \n",
       "6        How many people are affected by trisomy 18?   \n",
       "7  What are the genetic changes related to trisom...   \n",
       "8                           Is trisomy 18 inherited?   \n",
       "9            What are the treatments for trisomy 18?   \n",
       "\n",
       "                                    Candidate_Answer  \\\n",
       "0  Keratoderma with woolly hair is a skin conditi...   \n",
       "1  Keratoderma with woolly hair is a rare conditi...   \n",
       "2  Keratoderma with woolly hair is caused by muta...   \n",
       "3  This condition is inherited in an autosomal re...   \n",
       "4  These resources address the diagnosis or manag...   \n",
       "5  Trisomy 18 is an inherited disorder that affec...   \n",
       "6  Trisomy 18 is a rare disorder; its prevalence ...   \n",
       "7  Trisomy 18 is caused by mutations in the COL1A...   \n",
       "8  This condition is inherited in an autosomal re...   \n",
       "9  These resources address the diagnosis or manag...   \n",
       "\n",
       "                                    Reference_Answer  \n",
       "0  Keratoderma with woolly hair is a group of rel...  \n",
       "1  Keratoderma with woolly hair is rare; its prev...  \n",
       "2  Mutations in the JUP, DSP, DSC2, and KANK2 gen...  \n",
       "3  Most cases of keratoderma with woolly hair hav...  \n",
       "4  These resources address the diagnosis or manag...  \n",
       "5  Trisomy 18, also called Edwards syndrome, is a...  \n",
       "6  Trisomy 18 occurs in about 1 in 5,000 live-bor...  \n",
       "7  Most cases of trisomy 18 result from having th...  \n",
       "8  Most cases of trisomy 18 are not inherited, bu...  \n",
       "9  These resources address the diagnosis or manag...  "
      ]
     },
     "execution_count": 17,
     "metadata": {},
     "output_type": "execute_result"
    }
   ],
   "source": [
    "def get_qualitative_results(model_dir, tokenized, tok, num_examples=10):\n",
    "    \"\"\"\n",
    "    Loads the trained model, generates predictions, and returns a DataFrame\n",
    "    showing the Question, Model Answer, and Reference Answer.\n",
    "    \"\"\"\n",
    "    import torch\n",
    "    import pandas as pd\n",
    "    from transformers import AutoModelForSeq2SeqLM\n",
    "\n",
    "    # 1. Load Model and Set Device\n",
    "    model = AutoModelForSeq2SeqLM.from_pretrained(model_dir)\n",
    "    DEVICE = torch.device(\"mps\" if torch.backends.mps.is_available() else \"cpu\")\n",
    "    model.to(DEVICE)\n",
    "\n",
    "    # 2. Select Test Subset (This is where the data is loaded)\n",
    "    test_subset = tokenized[\"test\"].select(range(num_examples))\n",
    "\n",
    "    # 3. Prepare Input IDs with Padding\n",
    "    input_ids_list = test_subset[\"input_ids\"]\n",
    "    padded_inputs = tok.pad(\n",
    "        {'input_ids': input_ids_list},\n",
    "        return_tensors=\"pt\"\n",
    "    ).input_ids.to(DEVICE)\n",
    "\n",
    "    # 4. Generate Predictions\n",
    "    preds = model.generate(\n",
    "        padded_inputs,\n",
    "        max_new_tokens=256,\n",
    "        num_beams=4,\n",
    "        do_sample=False\n",
    "    )\n",
    "\n",
    "    # 5. Decode Results (The Fix is here)\n",
    "    pred_text = tok.batch_decode(preds, skip_special_tokens=True)\n",
    "\n",
    "    # --- FIX START: Restore Question Text from Tokens ---\n",
    "    # a. Decode the input tokens (which contain the text + \"question: \" prefix)\n",
    "    questions_with_prefix = tok.batch_decode(test_subset[\"input_ids\"], skip_special_tokens=True)\n",
    "    # b. Strip the \"question: \" prefix (T5 instruction) for a clean display\n",
    "    questions = [q.replace('question: ', '').strip() for q in questions_with_prefix]\n",
    "    # c. Decode the reference labels\n",
    "    ref_text  = tok.batch_decode(test_subset[\"labels\"], skip_special_tokens=True)\n",
    "    # --- FIX END ---\n",
    "\n",
    "    # 6. Compile and Return DataFrame\n",
    "    results_df = pd.DataFrame({\n",
    "        'Question': questions,\n",
    "        'Candidate_Answer': pred_text,\n",
    "        'Reference_Answer': ref_text\n",
    "    })\n",
    "    return results_df\n",
    "\n",
    "# --- EXECUTION ---\n",
    "# NOTE: Use \"./biobart-medquad\" if you trained the BioBART model.\n",
    "qual_df = get_qualitative_results(\n",
    "    model_dir=\"./t5-medquad\",\n",
    "    tokenized=tokenized,\n",
    "    tok=tok,\n",
    "    num_examples=10\n",
    ")\n",
    "\n",
    "print(f\"Qualitative Results (Top 10 Examples):\\n\")\n",
    "qual_df.head(10)"
   ]
  },
  {
   "cell_type": "markdown",
   "id": "b6319786",
   "metadata": {
    "id": "b6319786"
   },
   "source": [
    "## 5) Task 2 — Paraphrase Detection (Siamese baseline)"
   ]
  },
  {
   "cell_type": "code",
   "execution_count": null,
   "id": "fbfc3e33",
   "metadata": {
    "id": "fbfc3e33",
    "outputId": "acdf060f-5f52-4b04-c05a-dc6c0c996d2c"
   },
   "outputs": [
    {
     "data": {
      "text/plain": [
       "(26280, 6570, np.float64(0.60882800608828))"
      ]
     },
     "execution_count": 7,
     "metadata": {},
     "output_type": "execute_result"
    }
   ],
   "source": [
    "from itertools import combinations\n",
    "from sklearn.model_selection import train_test_split\n",
    "\n",
    "def build_paraphrase_pairs(df, max_pos=20000, max_neg=20000, seed=13):\n",
    "    df2 = df.dropna(subset=[\"question\"]).copy()\n",
    "    pos = []\n",
    "    for cui, block in df2.groupby(df2[\"focus_cui\"].fillna(\"NOFOCUS\")):\n",
    "        qs = block[\"question\"].drop_duplicates().tolist()\n",
    "        for a,b in combinations(qs, 2):\n",
    "            pos.append((a,b,1))\n",
    "            if len(pos) >= max_pos: break\n",
    "        if len(pos) >= max_pos: break\n",
    "    a_list = df2[\"question\"].sample(min(max_neg, len(df2)), random_state=seed).tolist()\n",
    "    b_list = df2[\"question\"].sample(min(max_neg, len(df2)), random_state=seed+1).tolist()\n",
    "    neg = [(a,b,0) for a,b in zip(a_list,b_list) if a!=b][:max_neg]\n",
    "    pairs = pd.DataFrame(pos+neg, columns=[\"q1\",\"q2\",\"label\"]).sample(frac=1, random_state=seed).reset_index(drop=True)\n",
    "    return pairs\n",
    "\n",
    "pairs = build_paraphrase_pairs(train_df)\n",
    "pairs_train, pairs_dev = train_test_split(pairs, test_size=0.2, random_state=7, stratify=pairs[\"label\"])\n",
    "len(pairs_train), len(pairs_dev), pairs_train[\"label\"].mean()"
   ]
  },
  {
   "cell_type": "code",
   "execution_count": null,
   "id": "d72a5947",
   "metadata": {
    "colab": {
     "referenced_widgets": [
      "14ae04db270d4f0b9ff6787b21cc006c"
     ]
    },
    "id": "d72a5947",
    "outputId": "64daae94-c9bb-44d3-8139-dbb9b190b48d"
   },
   "outputs": [
    {
     "data": {
      "application/vnd.jupyter.widget-view+json": {
       "model_id": "14ae04db270d4f0b9ff6787b21cc006c",
       "version_major": 2,
       "version_minor": 0
      },
      "text/plain": [
       "Computing widget examples:   0%|          | 0/1 [00:00<?, ?example/s]"
      ]
     },
     "metadata": {},
     "output_type": "display_data"
    },
    {
     "data": {
      "text/html": [
       "\n",
       "    <div>\n",
       "      \n",
       "      <progress value='822' max='822' style='width:300px; height:20px; vertical-align: middle;'></progress>\n",
       "      [822/822 01:26, Epoch 1/1]\n",
       "    </div>\n",
       "    <table border=\"1\" class=\"dataframe\">\n",
       "  <thead>\n",
       " <tr style=\"text-align: left;\">\n",
       "      <th>Step</th>\n",
       "      <th>Training Loss</th>\n",
       "    </tr>\n",
       "  </thead>\n",
       "  <tbody>\n",
       "    <tr>\n",
       "      <td>500</td>\n",
       "      <td>0.041200</td>\n",
       "    </tr>\n",
       "  </tbody>\n",
       "</table><p>"
      ],
      "text/plain": [
       "<IPython.core.display.HTML object>"
      ]
     },
     "metadata": {},
     "output_type": "display_data"
    }
   ],
   "source": [
    "from sentence_transformers import SentenceTransformer, InputExample, losses\n",
    "from torch.utils.data import DataLoader\n",
    "import torch, numpy as np\n",
    "\n",
    "def train_siamese(pairs, model_name=\"sentence-transformers/all-MiniLM-L6-v2\", epochs=1):\n",
    "    model = SentenceTransformer(model_name)\n",
    "    train_ex = [InputExample(texts=[r.q1, r.q2], label=float(r.label)) for _,r in pairs.iterrows()]\n",
    "    loader = DataLoader(train_ex, shuffle=True, batch_size=32)\n",
    "    train_loss = losses.CosineSimilarityLoss(model)\n",
    "    model.fit(train_objectives=[(loader, train_loss)], epochs=epochs, warmup_steps=max(1, int(len(loader)*0.1)))\n",
    "    return model\n",
    "\n",
    "sbert = train_siamese(pairs_train)        # ← Uncomment to train\n",
    "sbert.save(\"./sbert-paraphrase-medquad\")"
   ]
  },
  {
   "cell_type": "code",
   "execution_count": null,
   "id": "6d5414b8",
   "metadata": {
    "id": "6d5414b8",
    "outputId": "51c238af-55a7-4954-b97a-5dcb18879a15"
   },
   "outputs": [
    {
     "data": {
      "text/plain": [
       "0.9894977168949771"
      ]
     },
     "execution_count": 23,
     "metadata": {},
     "output_type": "execute_result"
    }
   ],
   "source": [
    "def eval_siamese(model_dir, eval_df, thresh=0.5):\n",
    "    model = SentenceTransformer(model_dir)\n",
    "    a = model.encode(eval_df[\"q1\"].tolist(), convert_to_tensor=True, show_progress_bar=False)\n",
    "    b = model.encode(eval_df[\"q2\"].tolist(), convert_to_tensor=True, show_progress_bar=False)\n",
    "    sims = torch.nn.functional.cosine_similarity(a,b).cpu().numpy()\n",
    "    preds = (sims >= thresh).astype(int)\n",
    "    acc = (preds == eval_df[\"label\"].values).mean()\n",
    "    return float(acc)\n",
    "\n",
    "eval_siamese(\"./sbert-paraphrase-medquad\", pairs_dev)  # ← Evaluate after training"
   ]
  },
  {
   "cell_type": "markdown",
   "id": "2bbce330",
   "metadata": {
    "id": "2bbce330"
   },
   "source": [
    "## 6) Task 3 — Retrieval-Augmented QA (BM25 + FAISS + Generator)"
   ]
  },
  {
   "cell_type": "code",
   "execution_count": null,
   "id": "b2a14d07",
   "metadata": {
    "id": "b2a14d07"
   },
   "outputs": [],
   "source": [
    "from rank_bm25 import BM25Okapi\n",
    "from sentence_transformers import SentenceTransformer\n",
    "import faiss, numpy as np, nltk\n",
    "nltk.download('punkt', quiet=True)\n",
    "from nltk.tokenize import word_tokenize\n",
    "\n",
    "corpus = train_df[\"answer\"].dropna().tolist() + dev_df[\"answer\"].dropna().tolist()\n",
    "\n",
    "def build_bm25(corpus_texts):\n",
    "    tokenized = [word_tokenize(t.lower()) for t in corpus_texts]\n",
    "    return BM25Okapi(tokenized), tokenized\n",
    "\n",
    "bm25, tok_corp = build_bm25(corpus)\n",
    "\n",
    "def bm25_topk(bm25, tokenized_corpus, query, k=5):\n",
    "    scores = bm25.get_scores(word_tokenize(query.lower()))\n",
    "    idx = np.argsort(-scores)[:k]\n",
    "    return idx, scores[idx]\n",
    "\n",
    "def build_faiss(corpus_texts, embedder=\"sentence-transformers/all-MiniLM-L6-v2\"):\n",
    "    enc = SentenceTransformer(embedder)\n",
    "    vecs = enc.encode(corpus_texts, normalize_embeddings=True, show_progress_bar=False)\n",
    "    index = faiss.IndexFlatIP(vecs.shape[1]); index.add(vecs.astype(np.float32))\n",
    "    return enc, index, vecs\n",
    "\n",
    "enc, faiss_index, vecs = build_faiss(corpus)\n",
    "\n",
    "def dense_topk(enc, faiss_index, query, k=5):\n",
    "    qv = enc.encode([query], normalize_embeddings=True, show_progress_bar=False)\n",
    "    D, I = faiss_index.search(qv.astype(np.float32), k)\n",
    "    return I[0], D[0]\n",
    "\n",
    "def rag_context_for(question, k=5):\n",
    "    cand = set()\n",
    "    bi, _ = bm25_topk(bm25, tok_corp, question, k=k); cand.update(bi)\n",
    "    di, _ = dense_topk(enc, faiss_index, question, k=k); cand.update(di)\n",
    "    idxs = list(cand)[:k]\n",
    "    ctx = \" \".join([corpus[i] for i in idxs])\n",
    "    return ctx, idxs"
   ]
  },
  {
   "cell_type": "code",
   "execution_count": null,
   "id": "2ec74e8a",
   "metadata": {
    "id": "2ec74e8a",
    "outputId": "037786bc-793d-4a92-db2d-3c3c34e3c7ee"
   },
   "outputs": [
    {
     "data": {
      "text/plain": [
       "(0.31, 0.21233333333333337)"
      ]
     },
     "execution_count": 9,
     "metadata": {},
     "output_type": "execute_result"
    }
   ],
   "source": [
    "# Retrieval quality metrics via ROUGE-L vs gold answer\n",
    "from rouge_score import rouge_scorer\n",
    "\n",
    "def retrieval_metrics(questions, gold_answers, k=5, rouge_thresh=0.2):\n",
    "    sc = rouge_scorer.RougeScorer(['rougeL'], use_stemmer=True)\n",
    "    hits, rr = 0, 0.0\n",
    "    for q, gold in zip(questions, gold_answers):\n",
    "        idxs, _ = bm25_topk(bm25, tok_corp, q, k)\n",
    "        best_rank = None\n",
    "        for r, i in enumerate(idxs, start=1):\n",
    "            rougeL = sc.score(gold, corpus[i])['rougeL'].fmeasure\n",
    "            if rougeL >= rouge_thresh:\n",
    "                best_rank = r; break\n",
    "        if best_rank:\n",
    "            hits += 1; rr += 1.0 / best_rank\n",
    "    n = len(questions)\n",
    "    return hits / n, rr / n\n",
    "\n",
    "\n",
    "sample = test_df.dropna(subset=[\"question\",\"answer\"]).sample(200, random_state=7)\n",
    "recall_k, mrr = retrieval_metrics(sample[\"question\"].tolist(), sample[\"answer\"].tolist(), k=5)\n",
    "recall_k, mrr"
   ]
  },
  {
   "cell_type": "code",
   "execution_count": null,
   "id": "b0184317",
   "metadata": {
    "id": "b0184317",
    "outputId": "99a49d84-5c24-40dd-90b2-b3591a9039da"
   },
   "outputs": [
    {
     "name": "stdout",
     "output_type": "stream",
     "text": [
      "The symptoms of botulism are usually mild and may include a rash of swollen skin, rash, and rash. The most common symptoms of botulism are a rash of rash, rash, and rash. The rash of rash is usually a rash. The rash of rash is usually a rash. The rash of rash is usually a rash. The rash of rash is usually a rash. The rash of rash is usually accompanied by a rash of a rash. The\n"
     ]
    }
   ],
   "source": [
    "# RAG generation with T5\n",
    "from transformers import T5ForConditionalGeneration, T5TokenizerFast\n",
    "\n",
    "def rag_generate(model_dir, question, k=5, max_input=384, max_new=128):\n",
    "    tok = T5TokenizerFast.from_pretrained(\"t5-small\")\n",
    "    model = T5ForConditionalGeneration.from_pretrained(model_dir)\n",
    "    ctx, idxs = rag_context_for(question, k=k)\n",
    "    inp = f\"question: {question}  context: {ctx}\"\n",
    "    ids = tok(inp, return_tensors=\"pt\", truncation=True, max_length=max_input).input_ids\n",
    "    out = model.generate(ids, max_new_tokens=max_new)\n",
    "    return tok.decode(out[0], skip_special_tokens=True), idxs\n",
    "\n",
    "q = sample[\"question\"].iloc[0]; pred, idxs = rag_generate(\"./t5-medquad\", q); print(pred)"
   ]
  },
  {
   "cell_type": "code",
   "execution_count": null,
   "id": "851f4d86",
   "metadata": {
    "id": "851f4d86"
   },
   "outputs": [],
   "source": [
    "import os\n",
    "\n",
    "def save_df_to_csv(df, file_name=\"medquad_qa_check.csv\"):\n",
    "    \"\"\"\n",
    "    Saves the current DataFrame to a CSV file in the OUT_DIR.\n",
    "    \"\"\"\n",
    "    csv_path = os.path.join(OUT_DIR, file_name)\n",
    "\n",
    "    # Save only the columns needed for verification, including the length columns\n",
    "    df[['question', 'answer', 'q_len', 'a_len', 'source', 'host', 'xml_path']].to_csv(csv_path, index=False)\n",
    "\n",
    "    print(f\"DataFrame successfully saved to: {csv_path}\")\n",
    "    print(\"Check the 'a_len' column in the CSV for zero values.\")\n",
    "\n",
    "# Example Usage (Run this cell after running Cell 5/EDA)\n",
    "# You should have defined OUT_DIR in an earlier cell.\n",
    "save_df_to_csv(df)"
   ]
  },
  {
   "cell_type": "code",
   "execution_count": null,
   "id": "e332b2f7",
   "metadata": {
    "id": "e332b2f7"
   },
   "outputs": [],
   "source": [
    "df_filtered = df[df['a_len'] > 0].copy()\n",
    "df_filtered.shape"
   ]
  },
  {
   "cell_type": "code",
   "execution_count": null,
   "id": "5e45328f",
   "metadata": {
    "id": "5e45328f"
   },
   "outputs": [],
   "source": [
    "import requests\n",
    "from bs4 import BeautifulSoup\n",
    "from tqdm.notebook import tqdm # Use the notebook tqdm for progress bars\n",
    "\n",
    "# Headers mimic a standard browser to avoid being blocked by the server\n",
    "HEADERS = {'User-Agent': 'Mozilla/5.0 (Windows NT 10.0; Win64; x64) AppleWebKit/537.36 (KHTML, like Gecko) Chrome/58.0.3029.110 Safari/537.3'}\n",
    "\n",
    "def crawl_url_for_answer(url):\n",
    "    \"\"\"Fetches a URL and attempts to extract a large, coherent block of text.\"\"\"\n",
    "    if not url or not url.startswith('http'):\n",
    "        return None\n",
    "    try:\n",
    "        response = requests.get(url, headers=HEADERS, timeout=10)\n",
    "        response.raise_for_status() # Raise exception for bad status codes\n",
    "\n",
    "        soup = BeautifulSoup(response.content, 'html.parser')\n",
    "\n",
    "        # --- Heuristics to find relevant content on NIH-style pages ---\n",
    "        # Look for the main content area (often div with id/class that indicates content)\n",
    "        # These are common selectors for the main text body:\n",
    "        main_content = soup.find('article') or soup.find('main') or soup.find('div', id=lambda x: x and 'content' in x.lower())\n",
    "\n",
    "        if main_content:\n",
    "            # Extract and clean all paragraph text from the main body\n",
    "            text = ' '.join(p.get_text() for p in main_content.find_all('p'))\n",
    "            # Simple cleaning\n",
    "            cleaned_text = re.sub(r'\\s+', ' ', text).strip()\n",
    "            # If the extracted text is very short, it's probably wrong.\n",
    "            if len(cleaned_text.split()) > 50:\n",
    "                return cleaned_text\n",
    "\n",
    "        return None\n",
    "    except requests.RequestException as e:\n",
    "        # print(f\"Error crawling {url}: {e}\")\n",
    "        return None"
   ]
  },
  {
   "cell_type": "code",
   "execution_count": null,
   "id": "ce1fa89b",
   "metadata": {
    "id": "ce1fa89b"
   },
   "outputs": [],
   "source": [
    "# 1. Ensure you have run the fix for the previous turn to get a_len\n",
    "df[\"a_len\"] = df[\"answer\"].str.split().str.len()\n",
    "\n",
    "# 2. Filter the DataFrame to isolate ONLY the rows with missing answers (a_len == 0)\n",
    "missing_answers_df = df[df['a_len'] == 0].copy()\n",
    "\n",
    "# 3. Create a new column to store the crawled answers\n",
    "missing_answers_df['crawled_answer'] = None\n",
    "\n",
    "# 4. Loop through the missing rows and crawl each URL\n",
    "tqdm.pandas(desc=\"Crawling Missing Answers\")\n",
    "missing_answers_df['crawled_answer'] = missing_answers_df['url'].progress_apply(crawl_url_for_answer)\n",
    "\n",
    "# 5. Filter for successful results\n",
    "crawled_results_df = missing_answers_df.dropna(subset=['crawled_answer'])\n",
    "\n",
    "print(f\"Successfully crawled and extracted answers for {len(crawled_results_df)} of {len(missing_answers_df)} questions.\")\n",
    "crawled_results_df[['question', 'crawled_answer', 'url']].head()"
   ]
  },
  {
   "cell_type": "code",
   "execution_count": null,
   "id": "c490cf20-edbf-4651-a7cc-ca5d83ec62fc",
   "metadata": {
    "id": "c490cf20-edbf-4651-a7cc-ca5d83ec62fc"
   },
   "outputs": [],
   "source": [
    "# ==== CONFIG ====\n",
    "LOCAL_PUBMED = \"/Users/harshasekar/Documents/UIUC/IS-567 Text Mining/Project/Code_V1/Models/S-PubMedBert-MS-MARCO\"\n",
    "\n",
    "USE_CHUNKING = True          # ← flip this to False for non-chunked run\n",
    "CHUNK_MAX_TOKENS = 160       # good balance for SBERT encoders\n",
    "CHUNK_STRIDE     = 80        # 50% overlap\n",
    "MAX_CHUNKS_PER_ANSWER = 3    # cap to control runtime (set None for unlimited)\n",
    "\n",
    "EVAL_K = 10                  # Recall@K / MRR@K\n",
    "POOL_N = 50                  # candidate pool size for hybrid fusion\n",
    "\n",
    "# ==== HELPERS ====\n",
    "import time, re, numpy as np, random\n",
    "from collections import defaultdict\n",
    "\n",
    "def tic(msg):\n",
    "    print(f\"\\n⏱️ {msg} ...\", flush=True);\n",
    "    return time.time()\n",
    "\n",
    "def toc(t0, msg=\"done\"):\n",
    "    print(f\"✅ {msg} in {time.time()-t0:.2f}s\", flush=True)\n",
    "\n",
    "def preview(txt, n=120):\n",
    "    return str(txt).replace(\"\\n\", \" \")[:n]\n",
    "\n",
    "random.seed(13); np.random.seed(13)\n",
    "\n",
    "# Basic checks\n",
    "assert {\"question\",\"answer\"}.issubset(train_df.columns)\n",
    "assert {\"question\",\"answer\"}.issubset(dev_df.columns)\n",
    "assert {\"question\",\"answer\"}.issubset(test_df.columns)\n"
   ]
  },
  {
   "cell_type": "code",
   "execution_count": null,
   "id": "9edb595f-71cd-41b4-85fe-ab4d46ae7ae0",
   "metadata": {
    "id": "9edb595f-71cd-41b4-85fe-ab4d46ae7ae0",
    "outputId": "0c81fa5b-4137-49a0-876d-198b0a16b085"
   },
   "outputs": [
    {
     "name": "stdout",
     "output_type": "stream",
     "text": [
      "\n",
      "⏱️ Building full passage corpus ...\n",
      "✅ Built 16407 full passages in 0.22s\n",
      "• Passage[0]: Knobloch syndrome is a rare condition characterized by severe vision problems and a skull defect. A characteristic featu ...\n",
      "• Passage[1]: Knobloch syndrome is a rare condition. However, the exact prevalence of the condition is unknown. ...\n",
      "\n",
      "⏱️ Building CHUNKED corpus ...\n",
      "✅ Chunked to 28148 passages (~1.7/answer) in 0.28s\n",
      "• Chunk[0] → Answer[0]: knobloch syndrome is a rare condition characterized by severe vision problems and a skull defect a characteristic featur ...\n",
      "• Chunk[1] → Answer[0]: at the back of the eye vitreoretinal degeneration often leads to separation of the retina from the back of the eye retin ...\n"
     ]
    }
   ],
   "source": [
    "# Full answers (no truncation)\n",
    "passages, passage_meta = [], []\n",
    "def _add(df, split):\n",
    "    for _, r in df.iterrows():\n",
    "        passages.append(str(r[\"answer\"]))\n",
    "        passage_meta.append({\"split\": split})\n",
    "\n",
    "t0 = tic(\"Building full passage corpus\")\n",
    "_add(train_df, \"train\"); _add(dev_df, \"dev\"); _add(test_df, \"test\")\n",
    "toc(t0, f\"Built {len(passages)} full passages\")\n",
    "for i in range(min(2, len(passages))):\n",
    "    print(f\"• Passage[{i}]: {preview(passages[i])} ...\")\n",
    "\n",
    "# Optional chunked corpus\n",
    "chunk_passages, chunk2orig_idx = None, None\n",
    "if USE_CHUNKING:\n",
    "    def _tokens(text): return re.findall(r\"[A-Za-z0-9]+\", str(text).lower())\n",
    "    def _chunk_words(text, max_tokens=CHUNK_MAX_TOKENS, stride=CHUNK_STRIDE):\n",
    "        toks = _tokens(text)\n",
    "        if not toks: return [str(text)]\n",
    "        out, i = [], 0\n",
    "        while i < len(toks):\n",
    "            out.append(\" \".join(toks[i:i+max_tokens]))\n",
    "            if i + max_tokens >= len(toks): break\n",
    "            i += stride\n",
    "        return out\n",
    "\n",
    "    t1 = tic(\"Building CHUNKED corpus\")\n",
    "    chunk_passages, chunk2orig_idx = [], []\n",
    "    for orig_idx, full in enumerate(passages):\n",
    "        chunks = _chunk_words(full)\n",
    "        if MAX_CHUNKS_PER_ANSWER is not None:\n",
    "            chunks = chunks[:MAX_CHUNKS_PER_ANSWER]\n",
    "        for ch in chunks:\n",
    "            chunk_passages.append(ch)\n",
    "            chunk2orig_idx.append(orig_idx)\n",
    "    toc(t1, f\"Chunked to {len(chunk_passages)} passages (~{len(chunk_passages)/max(1,len(passages)):.1f}/answer)\")\n",
    "    for i in range(min(2, len(chunk_passages))):\n",
    "        print(f\"• Chunk[{i}] → Answer[{chunk2orig_idx[i]}]: {preview(chunk_passages[i])} ...\")\n"
   ]
  },
  {
   "cell_type": "code",
   "execution_count": null,
   "id": "3b8c7261-069e-4914-b646-b881efbda6ba",
   "metadata": {
    "id": "3b8c7261-069e-4914-b646-b881efbda6ba",
    "outputId": "ea1eef12-52c6-4f03-c7e5-f61c0eee8c0e"
   },
   "outputs": [
    {
     "name": "stdout",
     "output_type": "stream",
     "text": [
      "[bm25] Using NLTK stopwords + stemming\n",
      "\n",
      "⏱️ Tokenizing 28148 passages for BM25 ...\n",
      "✅ Tokenization complete in 14.36s\n",
      "\n",
      "⏱️ Building BM25 index ...\n",
      "✅ BM25 ready in 0.31s\n"
     ]
    }
   ],
   "source": [
    "from rank_bm25 import BM25Okapi\n",
    "\n",
    "ACTIVE_PASSAGES = chunk_passages if USE_CHUNKING else passages\n",
    "\n",
    "# Tokenizer: NLTK stopwords + stemming → fallback regex\n",
    "USE_NLTK = True\n",
    "try:\n",
    "    import nltk\n",
    "    from nltk.corpus import stopwords\n",
    "    from nltk.stem import PorterStemmer\n",
    "    try: _ = stopwords.words(\"english\")\n",
    "    except LookupError:\n",
    "        print(\"[nltk] downloading stopwords...\"); nltk.download(\"stopwords\")\n",
    "    STOP = set(stopwords.words(\"english\")); STEM = PorterStemmer()\n",
    "    TOKEN_ALPHA = re.compile(r\"[A-Za-z]+\")\n",
    "    def _tok(text: str):\n",
    "        toks = TOKEN_ALPHA.findall(text.lower())\n",
    "        toks = [t for t in toks if t not in STOP]\n",
    "        toks = [STEM.stem(t) for t in toks]\n",
    "        return toks\n",
    "    print(\"[bm25] Using NLTK stopwords + stemming\")\n",
    "except Exception as e:\n",
    "    USE_NLTK = False\n",
    "    TOKEN_ALNUM = re.compile(r\"[A-Za-z0-9]+\")\n",
    "    def _tok(text: str): return TOKEN_ALNUM.findall(str(text).lower())\n",
    "    print(f\"[bm25] Fallback regex tokenizer ({e})\")\n",
    "\n",
    "t0 = tic(f\"Tokenizing {len(ACTIVE_PASSAGES)} passages for BM25\")\n",
    "tokenized = [_tok(p) for p in ACTIVE_PASSAGES]\n",
    "toc(t0, \"Tokenization complete\")\n",
    "\n",
    "t1 = tic(\"Building BM25 index\")\n",
    "bm25 = BM25Okapi(tokenized)\n",
    "toc(t1, \"BM25 ready\")\n",
    "\n",
    "def bm25_topk(query: str, k=10):\n",
    "    qtok = _tok(query)\n",
    "    scores = bm25.get_scores(qtok)\n",
    "    order = np.argsort(-scores)[:k]\n",
    "    return order.tolist(), scores[order].tolist()\n"
   ]
  },
  {
   "cell_type": "code",
   "execution_count": null,
   "id": "9702227b-158c-4c55-9e54-eaa0b5362ea8",
   "metadata": {
    "colab": {
     "referenced_widgets": [
      "c9ed0164319e4b569669d6c6c84a8b58"
     ]
    },
    "id": "9702227b-158c-4c55-9e54-eaa0b5362ea8",
    "outputId": "84b1a696-a8f4-40f4-bd31-b851b85fb88a"
   },
   "outputs": [
    {
     "name": "stdout",
     "output_type": "stream",
     "text": [
      "Loading biomedical encoder from: /Users/harshasekar/Documents/UIUC/IS-567 Text Mining/Project/Code_V1/Models/S-PubMedBert-MS-MARCO\n",
      "✅ Encoder loaded\n",
      "\n",
      "⏱️ Encoding 28148 passages (normalize=True) ...\n"
     ]
    },
    {
     "data": {
      "application/vnd.jupyter.widget-view+json": {
       "model_id": "c9ed0164319e4b569669d6c6c84a8b58",
       "version_major": 2,
       "version_minor": 0
      },
      "text/plain": [
       "Batches:   0%|          | 0/440 [00:00<?, ?it/s]"
      ]
     },
     "metadata": {},
     "output_type": "display_data"
    },
    {
     "name": "stdout",
     "output_type": "stream",
     "text": [
      "✅ Encoding complete in 3946.75s\n",
      "\n",
      "⏱️ Building cosine ANN (sklearn brute) ...\n",
      "✅ ANN ready in 0.02s\n"
     ]
    }
   ],
   "source": [
    "from sentence_transformers import SentenceTransformer\n",
    "from sklearn.neighbors import NearestNeighbors\n",
    "import pathlib\n",
    "\n",
    "def load_pubmed_encoder(path=LOCAL_PUBMED):\n",
    "    p = pathlib.Path(path)\n",
    "    cand = list(p.glob(\"**/*.safetensors\")) + list(p.glob(\"**/pytorch_model.bin\"))\n",
    "    if not cand: raise RuntimeError(\"No weight files found. Did you run `git lfs pull` or download the repo ZIP?\")\n",
    "    small = [f for f in cand if f.stat().st_size < 10_000]\n",
    "    if small: raise RuntimeError(\"Found tiny Git-LFS pointer files; run `git lfs pull` in the model folder.\")\n",
    "    print(f\"Loading biomedical encoder from: {path}\")\n",
    "    enc = SentenceTransformer(path, device=\"cpu\")\n",
    "    print(\"✅ Encoder loaded\"); return enc\n",
    "\n",
    "encoder = load_pubmed_encoder(LOCAL_PUBMED)\n",
    "\n",
    "t0 = tic(f\"Encoding {len(ACTIVE_PASSAGES)} passages (normalize=True)\")\n",
    "embs = encoder.encode(\n",
    "    ACTIVE_PASSAGES,\n",
    "    normalize_embeddings=True,\n",
    "    convert_to_numpy=True,\n",
    "    show_progress_bar=True,\n",
    "    batch_size=64\n",
    ").astype(np.float32)\n",
    "toc(t0, \"Encoding complete\")\n",
    "\n",
    "t1 = tic(\"Building cosine ANN (sklearn brute)\")\n",
    "ann = NearestNeighbors(metric=\"cosine\", algorithm=\"brute\").fit(embs)\n",
    "toc(t1, \"ANN ready\")\n",
    "\n",
    "def dense_topk(query: str, k=10):\n",
    "    qv = encoder.encode([query], normalize_embeddings=True, convert_to_numpy=True, show_progress_bar=False)\n",
    "    dists, inds = ann.kneighbors(qv, n_neighbors=min(k, len(ACTIVE_PASSAGES)), return_distance=True)\n",
    "    sims = (1.0 - dists[0]); order = np.argsort(-sims)\n",
    "    return inds[0][order].tolist(), sims[order].tolist()\n"
   ]
  },
  {
   "cell_type": "code",
   "execution_count": null,
   "id": "87a33b6e-78a3-4e3d-8cb2-7806196a740e",
   "metadata": {
    "id": "87a33b6e-78a3-4e3d-8cb2-7806196a740e",
    "outputId": "98b4dde5-9bd0-4dc2-bb41-a9f6edbee41d"
   },
   "outputs": [
    {
     "name": "stdout",
     "output_type": "stream",
     "text": [
      "Hybrid (z-score) → top1: Key Points - Adult acute lymphoblastic leukemia (ALL) is a type of cancer in which the bone marrow makes too m …\n",
      "Hybrid (RRF) → top1: Key Points - Adult acute lymphoblastic leukemia (ALL) is a type of cancer in which the bone marrow makes too m …\n"
     ]
    }
   ],
   "source": [
    "from scipy.stats import zscore\n",
    "\n",
    "def hybrid_topk(query, k=10, poolN=POOL_N, dedup_by_answer=USE_CHUNKING):\n",
    "    bi, bs = bm25_topk(query, k=poolN)\n",
    "    di, ds = dense_topk(query, k=poolN)\n",
    "\n",
    "    merged = {}\n",
    "    for i,s in zip(bi,bs): merged.setdefault(i, {})[\"bm25\"]  = float(s)\n",
    "    for i,s in zip(di,ds): merged.setdefault(i, {})[\"dense\"] = float(s)\n",
    "\n",
    "    idxs = list(merged.keys())\n",
    "    bm = np.array([merged[i].get(\"bm25\",0.0)  for i in idxs], dtype=float)\n",
    "    de = np.array([merged[i].get(\"dense\",0.0) for i in idxs], dtype=float)\n",
    "    hb = zscore(bm) if (len(bm)>1 and bm.std()>0) else bm\n",
    "    hd = zscore(de) if (len(de)>1 and de.std()>0) else de\n",
    "    hy = hb + hd\n",
    "    order = np.argsort(-hy)\n",
    "\n",
    "    if not dedup_by_answer:\n",
    "        top = order[:k]\n",
    "        return [idxs[o] for o in top], [float(hy[o]) for o in top]\n",
    "\n",
    "    # de-dup per original answer when chunking\n",
    "    if USE_CHUNKING and chunk2orig_idx is not None:\n",
    "        seen, out_idx, out_sc = set(), [], []\n",
    "        for o in order:\n",
    "            ch_i = idxs[o]\n",
    "            ans_i = chunk2orig_idx[ch_i]\n",
    "            if ans_i in seen: continue\n",
    "            seen.add(ans_i); out_idx.append(ch_i); out_sc.append(float(hy[o]))\n",
    "            if len(out_idx) == k: break\n",
    "        return out_idx, out_sc\n",
    "    else:\n",
    "        top = order[:k]\n",
    "        return [idxs[o] for o in top], [float(hy[o]) for o in top]\n",
    "\n",
    "# === RRF fusion (rank-based, robust) ===\n",
    "def rrf_topk(query, k=10, poolN=POOL_N, k_rrf=60, dedup_by_answer=USE_CHUNKING):\n",
    "    # get top pool from each retriever (indices into ACTIVE_PASSAGES)\n",
    "    bi, _ = bm25_topk(query, k=poolN)\n",
    "    di, _ = dense_topk(query, k=poolN)\n",
    "\n",
    "    # build rank maps (1-based ranks)\n",
    "    bm_rank = {idx: r for r, idx in enumerate(bi, start=1)}\n",
    "    de_rank = {idx: r for r, idx in enumerate(di, start=1)}\n",
    "\n",
    "    # accumulate RRF scores\n",
    "    scores = {}\n",
    "    for idx, r in bm_rank.items():\n",
    "        scores[idx] = scores.get(idx, 0.0) + 1.0 / (k_rrf + r)\n",
    "    for idx, r in de_rank.items():\n",
    "        scores[idx] = scores.get(idx, 0.0) + 1.0 / (k_rrf + r)\n",
    "\n",
    "    # sort by fused score\n",
    "    idxs = list(scores.keys())\n",
    "    vals = [scores[i] for i in idxs]\n",
    "    order = np.argsort(-np.array(vals))\n",
    "\n",
    "    if not dedup_by_answer:\n",
    "        top = order[:k]\n",
    "        return [idxs[o] for o in top], [float(vals[o]) for o in top]\n",
    "\n",
    "    # de-dup best per original answer when chunking\n",
    "    if USE_CHUNKING and chunk2orig_idx is not None:\n",
    "        seen, out_idx, out_sc = set(), [], []\n",
    "        for o in order:\n",
    "            i = idxs[o]\n",
    "            ans_i = chunk2orig_idx[i]\n",
    "            if ans_i in seen:\n",
    "                continue\n",
    "            seen.add(ans_i)\n",
    "            out_idx.append(i); out_sc.append(float(vals[o]))\n",
    "            if len(out_idx) == k: break\n",
    "        return out_idx, out_sc\n",
    "    else:\n",
    "        top = order[:k]\n",
    "        return [idxs[o] for o in top], [float(vals[o]) for o in top]\n",
    "\n",
    "# quick smoke test vs z-score fusion\n",
    "q_demo = \"What is adult acute lymphoblastic leukemia?\"\n",
    "for name, fn in [(\"Hybrid (z-score)\", hybrid_topk),\n",
    "                 (\"Hybrid (RRF)\",     rrf_topk)]:\n",
    "    idxs,_ = fn(q_demo, k=5)\n",
    "    i0 = idxs[0]\n",
    "    src = passages[chunk2orig_idx[i0]] if USE_CHUNKING else passages[i0]\n",
    "    print(f\"{name} → top1:\", preview(src, 110), \"…\")\n"
   ]
  },
  {
   "cell_type": "code",
   "execution_count": null,
   "id": "f81455fb-dab2-414e-a1af-1ebc02076683",
   "metadata": {
    "id": "f81455fb-dab2-414e-a1af-1ebc02076683",
    "outputId": "c8d78383-7448-4ce8-ea94-92b1a38df586"
   },
   "outputs": [
    {
     "name": "stdout",
     "output_type": "stream",
     "text": [
      "\n",
      "=== BM25 @K=10 ===\n",
      "  progress: 25/1818\n",
      "  progress: 50/1818\n",
      "  progress: 75/1818\n",
      "  progress: 100/1818\n",
      "  progress: 125/1818\n",
      "  progress: 150/1818\n",
      "  progress: 175/1818\n",
      "  progress: 200/1818\n",
      "  progress: 225/1818\n",
      "  progress: 250/1818\n",
      "  progress: 275/1818\n",
      "  progress: 300/1818\n",
      "  progress: 325/1818\n",
      "  progress: 350/1818\n",
      "  progress: 375/1818\n",
      "  progress: 400/1818\n",
      "  progress: 425/1818\n",
      "  progress: 450/1818\n",
      "  progress: 475/1818\n",
      "  progress: 500/1818\n",
      "  progress: 525/1818\n",
      "  progress: 550/1818\n",
      "  progress: 575/1818\n",
      "  progress: 600/1818\n",
      "  progress: 625/1818\n",
      "  progress: 650/1818\n",
      "  progress: 675/1818\n",
      "  progress: 700/1818\n",
      "  progress: 725/1818\n",
      "  progress: 750/1818\n",
      "  progress: 775/1818\n",
      "  progress: 800/1818\n",
      "  progress: 825/1818\n",
      "  progress: 850/1818\n",
      "  progress: 875/1818\n",
      "  progress: 900/1818\n",
      "  progress: 925/1818\n",
      "  progress: 950/1818\n",
      "  progress: 975/1818\n",
      "  progress: 1000/1818\n",
      "  progress: 1025/1818\n",
      "  progress: 1050/1818\n",
      "  progress: 1075/1818\n",
      "  progress: 1100/1818\n",
      "  progress: 1125/1818\n",
      "  progress: 1150/1818\n",
      "  progress: 1175/1818\n",
      "  progress: 1200/1818\n",
      "  progress: 1225/1818\n",
      "  progress: 1250/1818\n",
      "  progress: 1275/1818\n",
      "  progress: 1300/1818\n",
      "  progress: 1325/1818\n",
      "  progress: 1350/1818\n",
      "  progress: 1375/1818\n",
      "  progress: 1400/1818\n",
      "  progress: 1425/1818\n",
      "  progress: 1450/1818\n",
      "  progress: 1475/1818\n",
      "  progress: 1500/1818\n",
      "  progress: 1525/1818\n",
      "  progress: 1550/1818\n",
      "  progress: 1575/1818\n",
      "  progress: 1600/1818\n",
      "  progress: 1625/1818\n",
      "  progress: 1650/1818\n",
      "  progress: 1675/1818\n",
      "  progress: 1700/1818\n",
      "  progress: 1725/1818\n",
      "  progress: 1750/1818\n",
      "  progress: 1775/1818\n",
      "  progress: 1800/1818\n",
      "  progress: 1818/1818\n",
      "→ Recall@10: 0.822 | MRR@10: 0.494\n",
      "\n",
      "=== Dense (PubMedBERT) @K=10 ===\n",
      "  progress: 25/1818\n",
      "  progress: 50/1818\n",
      "  progress: 75/1818\n",
      "  progress: 100/1818\n",
      "  progress: 125/1818\n",
      "  progress: 150/1818\n",
      "  progress: 175/1818\n",
      "  progress: 200/1818\n",
      "  progress: 225/1818\n",
      "  progress: 250/1818\n",
      "  progress: 275/1818\n",
      "  progress: 300/1818\n",
      "  progress: 325/1818\n",
      "  progress: 350/1818\n",
      "  progress: 375/1818\n",
      "  progress: 400/1818\n",
      "  progress: 425/1818\n",
      "  progress: 450/1818\n",
      "  progress: 475/1818\n",
      "  progress: 500/1818\n",
      "  progress: 525/1818\n",
      "  progress: 550/1818\n",
      "  progress: 575/1818\n",
      "  progress: 600/1818\n",
      "  progress: 625/1818\n",
      "  progress: 650/1818\n",
      "  progress: 675/1818\n",
      "  progress: 700/1818\n",
      "  progress: 725/1818\n",
      "  progress: 750/1818\n",
      "  progress: 775/1818\n",
      "  progress: 800/1818\n",
      "  progress: 825/1818\n",
      "  progress: 850/1818\n",
      "  progress: 875/1818\n",
      "  progress: 900/1818\n",
      "  progress: 925/1818\n",
      "  progress: 950/1818\n",
      "  progress: 975/1818\n",
      "  progress: 1000/1818\n",
      "  progress: 1025/1818\n",
      "  progress: 1050/1818\n",
      "  progress: 1075/1818\n",
      "  progress: 1100/1818\n",
      "  progress: 1125/1818\n",
      "  progress: 1150/1818\n",
      "  progress: 1175/1818\n",
      "  progress: 1200/1818\n",
      "  progress: 1225/1818\n",
      "  progress: 1250/1818\n",
      "  progress: 1275/1818\n",
      "  progress: 1300/1818\n",
      "  progress: 1325/1818\n",
      "  progress: 1350/1818\n",
      "  progress: 1375/1818\n",
      "  progress: 1400/1818\n",
      "  progress: 1425/1818\n",
      "  progress: 1450/1818\n",
      "  progress: 1475/1818\n",
      "  progress: 1500/1818\n",
      "  progress: 1525/1818\n",
      "  progress: 1550/1818\n",
      "  progress: 1575/1818\n",
      "  progress: 1600/1818\n",
      "  progress: 1625/1818\n",
      "  progress: 1650/1818\n",
      "  progress: 1675/1818\n",
      "  progress: 1700/1818\n",
      "  progress: 1725/1818\n",
      "  progress: 1750/1818\n",
      "  progress: 1775/1818\n",
      "  progress: 1800/1818\n",
      "  progress: 1818/1818\n",
      "→ Recall@10: 0.898 | MRR@10: 0.699\n",
      "\n",
      "=== Hybrid (z-score) @K=10 ===\n",
      "  progress: 25/1818\n",
      "  progress: 50/1818\n",
      "  progress: 75/1818\n",
      "  progress: 100/1818\n",
      "  progress: 125/1818\n",
      "  progress: 150/1818\n",
      "  progress: 175/1818\n",
      "  progress: 200/1818\n",
      "  progress: 225/1818\n",
      "  progress: 250/1818\n",
      "  progress: 275/1818\n",
      "  progress: 300/1818\n",
      "  progress: 325/1818\n",
      "  progress: 350/1818\n",
      "  progress: 375/1818\n",
      "  progress: 400/1818\n",
      "  progress: 425/1818\n",
      "  progress: 450/1818\n",
      "  progress: 475/1818\n",
      "  progress: 500/1818\n",
      "  progress: 525/1818\n",
      "  progress: 550/1818\n",
      "  progress: 575/1818\n",
      "  progress: 600/1818\n",
      "  progress: 625/1818\n",
      "  progress: 650/1818\n",
      "  progress: 675/1818\n",
      "  progress: 700/1818\n",
      "  progress: 725/1818\n",
      "  progress: 750/1818\n",
      "  progress: 775/1818\n",
      "  progress: 800/1818\n",
      "  progress: 825/1818\n",
      "  progress: 850/1818\n",
      "  progress: 875/1818\n",
      "  progress: 900/1818\n",
      "  progress: 925/1818\n",
      "  progress: 950/1818\n",
      "  progress: 975/1818\n",
      "  progress: 1000/1818\n",
      "  progress: 1025/1818\n",
      "  progress: 1050/1818\n",
      "  progress: 1075/1818\n",
      "  progress: 1100/1818\n",
      "  progress: 1125/1818\n",
      "  progress: 1150/1818\n",
      "  progress: 1175/1818\n",
      "  progress: 1200/1818\n",
      "  progress: 1225/1818\n",
      "  progress: 1250/1818\n",
      "  progress: 1275/1818\n",
      "  progress: 1300/1818\n",
      "  progress: 1325/1818\n",
      "  progress: 1350/1818\n",
      "  progress: 1375/1818\n",
      "  progress: 1400/1818\n",
      "  progress: 1425/1818\n",
      "  progress: 1450/1818\n",
      "  progress: 1475/1818\n",
      "  progress: 1500/1818\n",
      "  progress: 1525/1818\n",
      "  progress: 1550/1818\n",
      "  progress: 1575/1818\n",
      "  progress: 1600/1818\n",
      "  progress: 1625/1818\n",
      "  progress: 1650/1818\n",
      "  progress: 1675/1818\n",
      "  progress: 1700/1818\n",
      "  progress: 1725/1818\n",
      "  progress: 1750/1818\n",
      "  progress: 1775/1818\n",
      "  progress: 1800/1818\n",
      "  progress: 1818/1818\n",
      "→ Recall@10: 0.879 | MRR@10: 0.541\n",
      "\n",
      "=== Hybrid (RRF) @K=10 ===\n",
      "  progress: 25/1818\n",
      "  progress: 50/1818\n",
      "  progress: 75/1818\n",
      "  progress: 100/1818\n",
      "  progress: 125/1818\n",
      "  progress: 150/1818\n",
      "  progress: 175/1818\n",
      "  progress: 200/1818\n",
      "  progress: 225/1818\n",
      "  progress: 250/1818\n",
      "  progress: 275/1818\n",
      "  progress: 300/1818\n",
      "  progress: 325/1818\n",
      "  progress: 350/1818\n",
      "  progress: 375/1818\n",
      "  progress: 400/1818\n",
      "  progress: 425/1818\n",
      "  progress: 450/1818\n",
      "  progress: 475/1818\n",
      "  progress: 500/1818\n",
      "  progress: 525/1818\n",
      "  progress: 550/1818\n",
      "  progress: 575/1818\n",
      "  progress: 600/1818\n",
      "  progress: 625/1818\n",
      "  progress: 650/1818\n",
      "  progress: 675/1818\n",
      "  progress: 700/1818\n",
      "  progress: 725/1818\n",
      "  progress: 750/1818\n",
      "  progress: 775/1818\n",
      "  progress: 800/1818\n",
      "  progress: 825/1818\n",
      "  progress: 850/1818\n",
      "  progress: 875/1818\n",
      "  progress: 900/1818\n",
      "  progress: 925/1818\n",
      "  progress: 950/1818\n",
      "  progress: 975/1818\n",
      "  progress: 1000/1818\n",
      "  progress: 1025/1818\n",
      "  progress: 1050/1818\n",
      "  progress: 1075/1818\n",
      "  progress: 1100/1818\n",
      "  progress: 1125/1818\n",
      "  progress: 1150/1818\n",
      "  progress: 1175/1818\n",
      "  progress: 1200/1818\n",
      "  progress: 1225/1818\n",
      "  progress: 1250/1818\n",
      "  progress: 1275/1818\n",
      "  progress: 1300/1818\n",
      "  progress: 1325/1818\n",
      "  progress: 1350/1818\n",
      "  progress: 1375/1818\n",
      "  progress: 1400/1818\n",
      "  progress: 1425/1818\n",
      "  progress: 1450/1818\n",
      "  progress: 1475/1818\n",
      "  progress: 1500/1818\n",
      "  progress: 1525/1818\n",
      "  progress: 1550/1818\n",
      "  progress: 1575/1818\n",
      "  progress: 1600/1818\n",
      "  progress: 1625/1818\n",
      "  progress: 1650/1818\n",
      "  progress: 1675/1818\n",
      "  progress: 1700/1818\n",
      "  progress: 1725/1818\n",
      "  progress: 1750/1818\n",
      "  progress: 1775/1818\n",
      "  progress: 1800/1818\n",
      "  progress: 1818/1818\n",
      "→ Recall@10: 0.897 | MRR@10: 0.634\n",
      "\n",
      "=== Summary @K=10 ===\n",
      "BM25           → Recall: 0.822 | MRR: 0.494\n",
      "Dense          → Recall: 0.898 | MRR: 0.699\n",
      "Hybrid z-score → Recall: 0.879 | MRR: 0.541\n",
      "Hybrid RRF     → Recall: 0.897 | MRR: 0.634\n"
     ]
    }
   ],
   "source": [
    "# ===== Step 5 — Evaluation: Recall@K and MRR (BM25, Dense, Hybrid z-score, Hybrid RRF) =====\n",
    "from rouge_score import rouge_scorer\n",
    "\n",
    "EVAL_K = EVAL_K if 'EVAL_K' in globals() else 10  # keep your earlier setting if defined\n",
    "\n",
    "# Hit function: ROUGE-L overlap between retrieved text and gold answer\n",
    "scorer = rouge_scorer.RougeScorer([\"rougeL\"], use_stemmer=True)\n",
    "def _is_hit(pred_text: str, gold_answer: str, thresh: float = 0.20) -> bool:\n",
    "    return scorer.score(gold_answer, pred_text)[\"rougeL\"].fmeasure >= thresh\n",
    "\n",
    "# Where to read texts from (chunk text if chunking, else full answer text)\n",
    "def _text_by_idx(i: int) -> str:\n",
    "    return ACTIVE_PASSAGES[i]\n",
    "\n",
    "# Build eval lists from your test split\n",
    "q_list = test_df[\"question\"].astype(str).tolist()\n",
    "a_list = test_df[\"answer\"].astype(str).tolist()\n",
    "\n",
    "def eval_retriever(name: str, retr_fn, K: int = EVAL_K, show_every: int = 25):\n",
    "    \"\"\"\n",
    "    retr_fn must be a callable: retr_fn(question_str, k) -> (indices_list, scores_list)\n",
    "    \"\"\"\n",
    "    print(f\"\\n=== {name} @K={K} ===\")\n",
    "    hits = 0\n",
    "    rr_sum = 0.0\n",
    "\n",
    "    for n, (q, gold) in enumerate(zip(q_list, a_list), start=1):\n",
    "        idxs, _ = retr_fn(q, K)\n",
    "        rank = None\n",
    "        for r, idx in enumerate(idxs, start=1):\n",
    "            if _is_hit(_text_by_idx(idx), gold):\n",
    "                rank = r\n",
    "                break\n",
    "        if rank is not None:\n",
    "            hits += 1\n",
    "            rr_sum += 1.0 / rank\n",
    "\n",
    "        if (n % show_every == 0) or (n == len(q_list)):\n",
    "            print(f\"  progress: {n}/{len(q_list)}\")\n",
    "\n",
    "    recall = hits / len(q_list) if q_list else 0.0\n",
    "    mrr    = rr_sum / len(q_list) if q_list else 0.0\n",
    "    print(f\"→ Recall@{K}: {recall:.3f} | MRR@{K}: {mrr:.3f}\")\n",
    "    return recall, mrr\n",
    "\n",
    "# Wrappers so eval_retriever can call each method uniformly\n",
    "def _bm25_wrap(q, k):   return bm25_topk(q, k)\n",
    "def _dense_wrap(q, k):  return dense_topk(q, k)\n",
    "def _zscore_wrap(q, k): return hybrid_topk(q, k)          # z-score fusion\n",
    "def _rrf_wrap(q, k):    return rrf_topk(q, k)             # reciprocal-rank fusion\n",
    "\n",
    "# Run all four and collect results\n",
    "Rbm, Mbm = eval_retriever(\"BM25\",              _bm25_wrap,   K=EVAL_K)\n",
    "Rde, Mde = eval_retriever(\"Dense (PubMedBERT)\", _dense_wrap,  K=EVAL_K)\n",
    "Rhy, Mhy = eval_retriever(\"Hybrid (z-score)\",   _zscore_wrap, K=EVAL_K)\n",
    "Rrf, Mrf = eval_retriever(\"Hybrid (RRF)\",       _rrf_wrap,    K=EVAL_K)\n",
    "\n",
    "# Optional: quick summary print\n",
    "print(\"\\n=== Summary @K={} ===\".format(EVAL_K))\n",
    "print(\"BM25           → Recall: {:.3f} | MRR: {:.3f}\".format(Rbm, Mbm))\n",
    "print(\"Dense          → Recall: {:.3f} | MRR: {:.3f}\".format(Rde, Mde))\n",
    "print(\"Hybrid z-score → Recall: {:.3f} | MRR: {:.3f}\".format(Rhy, Mhy))\n",
    "print(\"Hybrid RRF     → Recall: {:.3f} | MRR: {:.3f}\".format(Rrf, Mrf))\n"
   ]
  },
  {
   "cell_type": "code",
   "execution_count": null,
   "id": "a832b16e-c286-42f5-ba3f-31dc6f75800e",
   "metadata": {
    "id": "a832b16e-c286-42f5-ba3f-31dc6f75800e"
   },
   "outputs": [],
   "source": [
    "# ===== G1 — Generator config =====\n",
    "FUSION = \"rrf\"        # options: \"bm25\", \"dense\", \"z\" (z-score), \"rrf\"\n",
    "GEN_TOPK = 3          # how many retrieved passages to include in context\n",
    "N_SAMPLES = 8         # how many test questions to show (set None to use ALL)\n",
    "MAX_INPUT_TOKENS = 512\n",
    "MAX_NEW_TOKENS   = 160\n",
    "GEN_STYLE = \"concise\" # \"concise\" | \"patient_friendly\" | \"bullet_points\"\n",
    "SEED = 13\n",
    "\n",
    "import random, numpy as np\n",
    "random.seed(SEED); np.random.seed(SEED)\n",
    "\n",
    "# Select a retriever by name (must match FUSION)\n",
    "def _get_retr_fn():\n",
    "    if FUSION == \"bm25\":\n",
    "        return lambda q, k: bm25_topk(q, k)\n",
    "    if FUSION == \"dense\":\n",
    "        return lambda q, k: dense_topk(q, k)\n",
    "    if FUSION == \"z\":\n",
    "        return lambda q, k: hybrid_topk(q, k)      # z-score fusion\n",
    "    if FUSION == \"rrf\":\n",
    "        return lambda q, k: rrf_topk(q, k)         # reciprocal-rank fusion\n",
    "    raise ValueError(\"FUSION must be one of: bm25 | dense | z | rrf\")\n",
    "\n",
    "RETRIEVE = _get_retr_fn()\n"
   ]
  },
  {
   "cell_type": "code",
   "execution_count": null,
   "id": "e0c3801c-0e86-4c87-8156-f5edb4382076",
   "metadata": {
    "id": "e0c3801c-0e86-4c87-8156-f5edb4382076",
    "outputId": "af00eb54-b84b-486b-c7a9-e502ca1b72dd"
   },
   "outputs": [
    {
     "name": "stdout",
     "output_type": "stream",
     "text": [
      "Loading generator: t5-small\n",
      "✅ Generator ready\n"
     ]
    }
   ],
   "source": [
    "# ===== G2 — Load generator (T5-small by default) =====\n",
    "from transformers import T5ForConditionalGeneration, T5TokenizerFast\n",
    "\n",
    "GEN_MODEL_ID = \"t5-small\"   # swap to \"google/flan-t5-base\" for stronger gen (slower)\n",
    "# If you downloaded a local generator, set: GEN_MODEL_ID = \"/path/to/local/t5-small\"\n",
    "\n",
    "print(f\"Loading generator: {GEN_MODEL_ID}\")\n",
    "gen_tok = T5TokenizerFast.from_pretrained(GEN_MODEL_ID)\n",
    "gen_mdl = T5ForConditionalGeneration.from_pretrained(GEN_MODEL_ID)\n",
    "print(\"✅ Generator ready\")\n"
   ]
  },
  {
   "cell_type": "code",
   "execution_count": null,
   "id": "019c07ab-af2b-47c1-8a37-d8d6188a2b84",
   "metadata": {
    "id": "019c07ab-af2b-47c1-8a37-d8d6188a2b84"
   },
   "outputs": [],
   "source": [
    "# ===== G3 — Guarded prompt + retrieval → generation helpers =====\n",
    "from rouge_score import rouge_scorer\n",
    "scorer = rouge_scorer.RougeScorer([\"rougeL\"], use_stemmer=True)\n",
    "\n",
    "def _format_context(ctx_texts):\n",
    "    # Number each context so we can cite [C1], [C2], ...\n",
    "    lines = []\n",
    "    for i, t in enumerate(ctx_texts, start=1):\n",
    "        clean = str(t).replace(\"\\n\", \" \").strip()\n",
    "        lines.append(f\"[C{i}] {clean}\")\n",
    "    return \"\\n\".join(lines)\n",
    "\n",
    "def _style_instructions(style: str) -> str:\n",
    "    if style == \"patient_friendly\":\n",
    "        return (\"- Write in plain, patient-friendly language.\\n\"\n",
    "                \"- Define medical terms briefly when first used.\\n\"\n",
    "                \"- Keep the answer to 3–5 short sentences.\\n\")\n",
    "    if style == \"bullet_points\":\n",
    "        return (\"- Answer using 3–6 short bullet points.\\n\"\n",
    "                \"- Each bullet should be one sentence.\\n\")\n",
    "    return (\"- Answer in 2–4 concise sentences.\\n\"\n",
    "            \"- Be direct and specific.\\n\")\n",
    "\n",
    "def build_prompt_t5_detailed(question: str, ctx_texts, style: str):\n",
    "    ctx_block = _format_context(ctx_texts)\n",
    "    style_block = _style_instructions(style)\n",
    "    return (\n",
    "f\"You are a biomedical QA assistant. Use ONLY the information in CONTEXT to answer the QUESTION.\\n\"\n",
    "f\"If the answer is not clearly supported by CONTEXT, reply exactly: NOT ENOUGH INFO\\n\\n\"\n",
    "f\"GUIDELINES:\\n\"\n",
    "f\"- Ground every claim in the numbered CONTEXT items below.\\n\"\n",
    "f\"- Add inline citations to the specific items you used, like [C1] or [C1][C3].\\n\"\n",
    "f\"- Do NOT invent facts, do NOT speculate, do NOT use outside knowledge.\\n\"\n",
    "f\"- If multiple CONTEXT items disagree, prefer the more specific or definition-like statements and acknowledge uncertainty.\\n\"\n",
    "f\"{style_block}\"\n",
    "f\"- Keep abbreviations expanded on first use (e.g., \\\"acute lymphoblastic leukemia (ALL)\\\"), then you may use the abbreviation.\\n\"\n",
    "f\"- Do NOT include your reasoning steps. Only output the final answer text.\\n\\n\"\n",
    "f\"QUESTION:\\n{question}\\n\\n\"\n",
    "f\"CONTEXT:\\n{ctx_block}\\n\\n\"\n",
    "f\"ANSWER:\"\n",
    "    )\n",
    "\n",
    "def retrieve_context(question: str, topk: int = GEN_TOPK):\n",
    "    idxs, _ = RETRIEVE(question, k=topk)\n",
    "    ctx_texts = [ACTIVE_PASSAGES[i] for i in idxs]\n",
    "    return idxs, ctx_texts\n",
    "\n",
    "def generate_answer(question: str, topk=GEN_TOPK,\n",
    "                    max_input_tokens=MAX_INPUT_TOKENS,\n",
    "                    max_new_tokens=MAX_NEW_TOKENS,\n",
    "                    style: str = GEN_STYLE):\n",
    "    idxs, ctx_texts = retrieve_context(question, topk=topk)\n",
    "    prompt = build_prompt_t5_detailed(question, ctx_texts, style)\n",
    "    enc = gen_tok(prompt, return_tensors=\"pt\", truncation=True, max_length=max_input_tokens)\n",
    "    out = gen_mdl.generate(**enc, max_new_tokens=max_new_tokens, do_sample=False)\n",
    "    gen_text = gen_tok.decode(out[0], skip_special_tokens=True).strip()\n",
    "    return gen_text, idxs, ctx_texts, prompt\n",
    "\n",
    "def rougeL_f1(pred: str, gold: str) -> float:\n",
    "    return scorer.score(gold, pred)[\"rougeL\"].fmeasure\n"
   ]
  },
  {
   "cell_type": "code",
   "execution_count": null,
   "id": "6818d312-12da-4a3b-b80f-b7895b2ea1fe",
   "metadata": {
    "id": "6818d312-12da-4a3b-b80f-b7895b2ea1fe",
    "outputId": "93628751-cc32-4281-e422-c474d838146b"
   },
   "outputs": [
    {
     "data": {
      "text/markdown": [
       "**Q (#466):** How many people are affected by juvenile Batten disease ?\n",
       "\n",
       "**Generated (ROUGE-L=0.396):**  \n",
       "QUESTION: How many people are affected by juvenile batten disease? CONTEXT: [C1] in mid to late childhood most people with juvenile batten disease live into their twenties or thirties juvenile batten disease is one of a group of disorders known as neuronal ceroid lipofuscinoses ncls. ncls are more common in finland where approximately 1 in 12 500 individuals are affected [C3] most cases of juvenile batten\n",
       "\n",
       "**Gold:**  \n",
       "Juvenile Batten disease is the most common type of NCL, but its exact prevalence is unknown. Collectively, all forms of NCL affect an estimated 1 in 100,000 individuals worldwide. NCLs are more common in Finland, where approximately 1 in 12,500 individuals are affected.\n",
       "\n",
       "**Retrieved (top-3 snippets):**  \n",
       "in mid to late childhood most people with juvenile batten disease live into their twenties or thirties juvenile batten disease is one of a g… | juvenile batten disease is the most common type of ncl but its exact prevalence is unknown collectively all forms of ncl affect an estimated… | most cases of juvenile batten disease are caused by mutations in the cln3 gene this gene provides instructions for making a protein whose fu…"
      ],
      "text/plain": [
       "<IPython.core.display.Markdown object>"
      ]
     },
     "metadata": {},
     "output_type": "display_data"
    },
    {
     "data": {
      "text/markdown": [
       "**Q (#1563):** Who is at risk for Nocardiosis? ?\n",
       "\n",
       "**Generated (ROUGE-L=0.144):**  \n",
       "QUESTION: Who is at risk for Nocardiosis?? CONTEXT: [C1] the bacteria that cause nocardiosis are commonly found in soil and water you could become sick with nocardiosis if you inhale breathe in the bacteria bacteria gets into an open wound or cut in rare cases infection can occur during surgical procedures.\n",
       "\n",
       "**Gold:**  \n",
       "People with very weak immune (body defense) systems are at risk for getting nocardiosis. Several diseases and circumstances can cause the immune system to be weak. These include: - Diabetes - Cancer - HIV/AIDS - Pulmonary alveolar proteinosis (an illness that causes the air sacs of the lungs to become plugged) - Connective tissue disorder (a disease that affects the tissue that connects and supports different parts of the body) - Alcoholism - Having a bone marrow or solid organ transplant - Taking high doses of drugs called corticosteroids In the United States, it has been estimated that 500-1,000 new cases of nocardiosis infection occur every year. Approximately 60% of nocardiosis cases are associated with pre-existing immune compromise. In addition, men have a greater risk of getting the infection than women; for every female who gets sick with nocardiosis, there are about 3 males who get the disease.\n",
       "\n",
       "**Retrieved (top-3 snippets):**  \n",
       "the bacteria that cause nocardiosis are commonly found in soil and water you could become sick with nocardiosis if you inhale breathe in the… | people with very weak immune body defense systems are at risk for getting nocardiosis several diseases and circumstances can cause the immun… | if you think you might be sick with nocardiosis talk to your doctor he or she can help find out if you have the disease by performing tests …"
      ],
      "text/plain": [
       "<IPython.core.display.Markdown object>"
      ]
     },
     "metadata": {},
     "output_type": "display_data"
    },
    {
     "data": {
      "text/markdown": [
       "**Q (#784):** What is (are) Hereditary sensory neuropathy type 1 ?\n",
       "\n",
       "**Generated (ROUGE-L=0.139):**  \n",
       "QUESTION: What is (are) hereditary sensory neuropathy type 1? CONTEXT: [C1] hereditary neuropathies are a group of inherited disorders affecting the peripheral nervous system. hereditary motor and sensory neuropathy hereditary motor neuropathy and hereditary sensory and autonomic neuropathy. charcot marie tooth disease one of the most common type is charcot marie tooth disease one of the hereditary neuropathies symptoms vary according the\n",
       "\n",
       "**Gold:**  \n",
       "Hereditary sensory neuropathy type 1 (HSN1) is a neurological condition characterized by nerve abnormalities in the legs and feet. Many people with this condition have tingling, weakness, and a reduced ability to feel pain and sense hot and cold. Some affected people do not lose sensation, but instead feel shooting pains in their legs and feet. As HSN1 progresses, sensory problems can affect the hands, arms, shoulders, and abdomen. In rare cases, people with this condition develop sensorineural hearing loss. Symptoms of HSN1 typically begin during a person's teens or twenties and worsen over time. HSN1 is caused by mutations in any of several genes, depending on the form of HSN1 (HSN1A is caused by mutations in the SPTLC1 gene; HSN1B is linked to a gene located in chromosome 3; HSN1C is caused by mutations in the SPTLC2 gene; HSN1D is caused by mutations in the ATL1 gene and HSN1E is caused by mutations in DNMT1 gene. All forms of HSN1 are inherited in an autosomal dominant manner. If symptoms are treated properly, the condition does not appear to affect life expectancy.\n",
       "\n",
       "**Retrieved (top-3 snippets):**  \n",
       "hereditary neuropathies are a group of inherited disorders affecting the peripheral nervous system the hereditary neuropathies are divided i… | hereditary sensory neuropathy type ia is a condition characterized by nerve abnormalities in the legs and feet peripheral neuropathy many pe… | hereditary sensory neuropathy type ia is a rare condition its prevalence is estimated to be 1 to 2 per 100 000 individuals…"
      ],
      "text/plain": [
       "<IPython.core.display.Markdown object>"
      ]
     },
     "metadata": {},
     "output_type": "display_data"
    },
    {
     "data": {
      "text/markdown": [
       "**Q (#715):** What is (are) Blount disease ?\n",
       "\n",
       "**Generated (ROUGE-L=0.114):**  \n",
       "if the information is available you can use the medlineplus medical dictionary to look up the definitions for these medical terms signs and symptoms. - Answer in 2–4 concise sentences. - Be direct and specific. - Be direct and specific. - If multiple CONTEXT items disagree, prefer the more specific or definition-like statements and acknowledge uncertainty. - Use the final answer text. - Answer in 2–4 concise sentences. - Do NOT invent facts, do NOT speculate, do NOT use\n",
       "\n",
       "**Gold:**  \n",
       "Blount disease is characterized by progressive bowing of the legs in infancy, early childhood, or adolescence. While it is not uncommon for young children to have bowed legs, typically the bowing improves with age. Blount disease is a condition that results from abnormal growth in the upper part of the shin bone (tibia) and requires treatment for improvement to occur. Treatment may involve bracing and/or surgery. Other causes for Blount disease in young children includes metabolic disease and rickets. Blount disease in teens typically occurs in youth who are overweight. In teens surgery is often required to correct the problem.\n",
       "\n",
       "**Retrieved (top-3 snippets):**  \n",
       "blount disease is characterized by progressive bowing of the legs in infancy early childhood or adolescence while it is not uncommon for you… | what are the signs and symptoms of blount disease the human phenotype ontology provides the following list of signs and symptoms for blount … | these resources address the diagnosis or management of parkinson disease gene review gene review parkinson disease overview genetic testing …"
      ],
      "text/plain": [
       "<IPython.core.display.Markdown object>"
      ]
     },
     "metadata": {},
     "output_type": "display_data"
    },
    {
     "data": {
      "text/markdown": [
       "**Q (#976):** Is 48,XXYY syndrome inherited ?\n",
       "\n",
       "**Generated (ROUGE-L=0.110):**  \n",
       "? QUESTION: [C2] 48 xxyy syndrome is a chromosomal condition that causes medical and behavioral problems in males 48 xxyy syndrome. 48 xxyy syndrome disrupts male sexual development adolescent and adult males with this condition typically have small testes that do not produce enough testosterone. 48 xxyy syndrome can affect other parts of the body as well males with 48 xxyy syndrome are often taller than other male\n",
       "\n",
       "**Gold:**  \n",
       "Can 48,XXYY syndrome be inherited?\n",
       "\n",
       "**Retrieved (top-3 snippets):**  \n",
       "can 48 xxyy syndrome be inherited… | 48 xxyy syndrome is a chromosomal condition that causes medical and behavioral problems in males 48 xxyy disrupts male sexual development ad… | 48 xxyy syndrome is estimated to affect 1 in 18 000 to 50 000 males…"
      ],
      "text/plain": [
       "<IPython.core.display.Markdown object>"
      ]
     },
     "metadata": {},
     "output_type": "display_data"
    },
    {
     "data": {
      "text/markdown": [
       "**Q (#1150):** What is the outlook for Cephalic Disorders ?\n",
       "\n",
       "**Generated (ROUGE-L=0.098):**  \n",
       "- Use ONLY the information in CONTEXT to answer the QUESTION. - Answer in 2–4 concise sentences. - Be direct and specific. - Be direct and specific. - Be direct and specific. - Be direct and specific. - Be direct and specific. - Be direct and specific. - Be direct and specific. - Be direct and specific. - If multiple CONTEXT items disagree, prefer the more specific or definition-like statements and acknowledge uncertainty. - Answer\n",
       "\n",
       "**Gold:**  \n",
       "The degree to which damage to the developing nervous system harms the mind and body varies enormously. Many disabilities are mild enough to allow those afflicted to eventually function independently in society. Others are not. Some infants, children, and adults die; others remain totally disabled; and an even larger population is partially disabled, functioning well below normal capacity.\n",
       "\n",
       "**Retrieved (top-3 snippets):**  \n",
       "cephalic disorders are congenital conditions that stem from damage to or abnormal development of the budding nervous system most cephalic di… | treatments for cephalic disorders depend upon the particular type of disorder for most cephalic disorders treatment is only symptomatic and … | the outlook for children with hydranencephaly is generally poor and many children with this disorder die before age 1 however in rare cases …"
      ],
      "text/plain": [
       "<IPython.core.display.Markdown object>"
      ]
     },
     "metadata": {},
     "output_type": "display_data"
    },
    {
     "data": {
      "text/markdown": [
       "**Q (#1465):** Who is at risk for Diabetes? ?\n",
       "\n",
       "**Generated (ROUGE-L=0.089):**  \n",
       "the answer text. QUESTION: Who is at risk for Diabetes?? CONTEXT: [C1] risk learn more about the causes of type 1 diabetes type 2 diabetes type 2 diabetes type 2 diabetes the most common form is linked closely to overweight and obesity high blood pressure and abnormal cholesterol levels.\n",
       "\n",
       "**Gold:**  \n",
       "Here are the risk factors for type 2 diabetes. - being over 45 years of age - being overweight or obese - having a first-degree relative -- a parent, brother, or sister -- with diabetes - being African American, American Indian or Alaska Native, Asian American or Pacific Islander, or Hispanic American/Latino. (Watch the video to learn more about native Americans and diabetes risk. To enlarge the video, click the brackets in the lower right-hand corner. To reduce the video, press the Escape (Esc) button on your keyboard.) - having gestational diabetes, or giving birth to at least one baby weighing more than 9 pounds - having blood pressure of 140/90 or higher, or having been told that you have high blood pressure. - having abnormal cholesterol levels -- an HDL cholesterol level of 35 or lower, or a triglyceride level of 250 or higher - being inactive or exercising fewer than three times a week. - having polycystic ovary syndrome, also called PCOS (women only) - on previous testing, having prediabetes (an A1C level of 5.7 to 6.4 percent), impaired glucose tolerance (IGT) or impaired fasting glucose (IFG) - history of cardiovascular disease (disease affecting the heart and blood vessels). being over 45 years of age being overweight or obese having a first-degree relative -- a parent, brother, or sister -- with diabetes being African American, American Indian or Alaska Native, Asian American or Pacific Islander, or Hispanic American/Latino. (Watch the video to learn more about native Americans and diabetes risk. To enlarge the video, click the brackets in the lower right-hand corner. To reduce the video, press the Escape (Esc) button on your keyboard.) having gestational diabetes, or giving birth to at least one baby weighing more than 9 pounds having blood pressure of 140/90 or higher, or having been told that you have high blood pressure. having abnormal cholesterol levels -- an HDL cholesterol level of 35 or lower, or a triglyceride level of 250 or higher being inactive or exercising fewer than three times a week. having polycystic ovary syndrome, also called PCOS (women only) on previous testing, having prediabetes (an A1C level of 5.7 to 6.4 percent), impaired glucose tolerance (IGT) or impaired fasting glucose (IFG) history of cardiovascular disease (disease affecting the heart and blood vessels).\n",
       "\n",
       "**Retrieved (top-3 snippets):**  \n",
       "risk learn more about the causes of type 1 diabetes type 2 diabetes type 2 diabetes the most common form is linked closely to overweight and… | people who have type 1 or type 2 diabetes are at risk for diabetic heart disease dhd diabetes affects heart disease risk in three major ways… | prediabetes means your blood glucose levels are higher than normal but not high enough for a diagnosis of diabetes in 2012 about 86 million …"
      ],
      "text/plain": [
       "<IPython.core.display.Markdown object>"
      ]
     },
     "metadata": {},
     "output_type": "display_data"
    },
    {
     "data": {
      "text/markdown": [
       "**Q (#650):** What are the symptoms of De Barsy syndrome ?\n",
       "\n",
       "**Generated (ROUGE-L=0.046):**  \n",
       "? QUESTION: [C1] what are the signs and symptoms of de barsy syndrome?????????????????????????????????????????????\n",
       "\n",
       "**Gold:**  \n",
       "What are the signs and symptoms of De Barsy syndrome? The Human Phenotype Ontology provides the following list of signs and symptoms for De Barsy syndrome. If the information is available, the table below includes how often the symptom is seen in people with this condition. You can use the MedlinePlus Medical Dictionary to look up the definitions for these medical terms. Signs and Symptoms Approximate number of patients (when available) Abnormality of the fontanelles or cranial sutures 90% Cataract 90% Cognitive impairment 90% Cutis laxa 90% Hyperextensible skin 90% Hyperreflexia 90% Joint hypermobility 90% Muscular hypotonia 90% Opacification of the corneal stroma 90% Prematurely aged appearance 90% Short stature 90% Wide nasal bridge 90% Abnormality of adipose tissue 50% Aplasia/Hypoplasia of the corpus callosum 50% Aplasia/Hypoplasia of the skin 50% Broad forehead 50% Macrotia 50% Abnormality of female external genitalia 7.5% Abnormality of skin pigmentation 7.5% Abnormality of the hip bone 7.5% Adducted thumb 7.5% Aplasia/Hypoplasia of the abdominal wall musculature 7.5% Blue sclerae 7.5% Chorea 7.5% Flexion contracture 7.5% Genu recurvatum 7.5% Joint dislocation 7.5% Pectus excavatum 7.5% Reduced bone mineral density 7.5% Scoliosis 7.5% Umbilical hernia 7.5% Cryptorchidism 5% Athetosis - Autosomal recessive inheritance - Brachycephaly - Congenital hip dislocation - Corneal arcus - Delayed skeletal maturation - Failure to thrive - Frontal bossing - Hypertelorism - Hypotelorism - Inguinal hernia - Intellectual disability - Intrauterine growth retardation - Large fontanelles - Low-set ears - Myopia - Narrow mouth - Narrow nasal ridge - Prominent forehead - Prominent superficial blood vessels - Seizures - Severe short stature - Sparse hair - Sporadic - Strabismus - Talipes equinovarus - Thin skin - Wide cranial sutures - Wormian bones - The Human Phenotype Ontology (HPO) has collected information on how often a sign or symptom occurs in a condition. Much of this information comes from Orphanet, a European rare disease database. The frequency of a sign or symptom is usually listed as a rough estimate of the percentage of patients who have that feature. The frequency may also be listed as a fraction. The first number of the fraction is how many people had the symptom, and the second number is the total number of people who were examined in one study. For example, a frequency of 25/25 means that in a study of 25 people all patients were found to have that symptom. Because these frequencies are based on a specific study, the fractions may be different if another group of patients are examined. Sometimes, no information on frequency is available. In these cases, the sign or symptom may be rare or common.\n",
       "\n",
       "**Retrieved (top-3 snippets):**  \n",
       "what are the signs and symptoms of de barsy syndrome the human phenotype ontology provides the following list of signs and symptoms for de b… | de barsy syndrome is a rare genetic disorder characterized mainly by a prematurely aged looking face progeria cloudy corneas short stature a… | what are the signs and symptoms of koolen de vries syndrome the human phenotype ontology provides the following list of signs and symptoms f…"
      ],
      "text/plain": [
       "<IPython.core.display.Markdown object>"
      ]
     },
     "metadata": {},
     "output_type": "display_data"
    },
    {
     "name": "stdout",
     "output_type": "stream",
     "text": [
      "\n",
      "✅ Shown 8 examples. Mean ROUGE-L: 0.142\n"
     ]
    }
   ],
   "source": [
    "# ===== G4 — Demo N examples with side-by-side view and ROUGE-L =====\n",
    "from IPython.display import display, Markdown\n",
    "import pandas as pd\n",
    "\n",
    "q_list = test_df[\"question\"].astype(str).tolist()\n",
    "a_list = test_df[\"answer\"].astype(str).tolist()\n",
    "\n",
    "# pick indices for the demo\n",
    "indices = list(range(len(q_list)))\n",
    "if N_SAMPLES is not None:\n",
    "    random.shuffle(indices)\n",
    "    indices = indices[:N_SAMPLES]\n",
    "\n",
    "rows = []\n",
    "for i in indices:\n",
    "    q = q_list[i]; gold = a_list[i]\n",
    "    pred, idxs, ctx, pr = generate_answer(q, topk=GEN_TOPK, style=GEN_STYLE)\n",
    "    rL = rougeL_f1(pred, gold)\n",
    "    snippet_join = \" | \".join([str(ACTIVE_PASSAGES[j]).replace(\"\\n\",\" \")[:140] + \"…\" for j in idxs])\n",
    "\n",
    "    rows.append({\n",
    "        \"idx\": i,\n",
    "        \"rougeL\": round(rL, 3),\n",
    "        \"question\": q,\n",
    "        \"generated\": pred,\n",
    "        \"gold\": gold,\n",
    "        \"retrieved_snippets\": snippet_join\n",
    "    })\n",
    "\n",
    "df_demo = pd.DataFrame(rows).sort_values(\"rougeL\", ascending=False).reset_index(drop=True)\n",
    "\n",
    "def _md_block(row):\n",
    "    return (\n",
    "f\"**Q (#{row['idx']}):** {row['question']}\\n\\n\"\n",
    "f\"**Generated (ROUGE-L={row['rougeL']:.3f}):**  \\n{row['generated']}\\n\\n\"\n",
    "f\"**Gold:**  \\n{row['gold']}\\n\\n\"\n",
    "f\"**Retrieved (top-{GEN_TOPK} snippets):**  \\n{row['retrieved_snippets']}\"\n",
    "    )\n",
    "\n",
    "for _, r in df_demo.iterrows():\n",
    "    display(Markdown(_md_block(r)))\n",
    "\n",
    "print(f\"\\n✅ Shown {len(df_demo)} examples. Mean ROUGE-L: {df_demo['rougeL'].mean():.3f}\")\n"
   ]
  }
 ],
 "metadata": {
  "colab": {
   "provenance": []
  },
  "kernelspec": {
   "display_name": "Python (medquad_env)",
   "language": "python",
   "name": "medquad_env"
  },
  "language_info": {
   "codemirror_mode": {
    "name": "ipython",
    "version": 3
   },
   "file_extension": ".py",
   "mimetype": "text/x-python",
   "name": "python",
   "nbconvert_exporter": "python",
   "pygments_lexer": "ipython3",
   "version": "3.10.15"
  }
 },
 "nbformat": 4,
 "nbformat_minor": 5
}
